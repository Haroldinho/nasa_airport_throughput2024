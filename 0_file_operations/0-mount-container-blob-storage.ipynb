{
 "cells": [
  {
   "cell_type": "markdown",
   "metadata": {
    "application/vnd.databricks.v1+cell": {
     "cellMetadata": {},
     "inputWidgets": {},
     "nuid": "54207f11-e77b-471f-aa64-aba0cbd31bf1",
     "showTitle": false,
     "tableResultSettingsMap": {},
     "title": ""
    }
   },
   "source": [
    "# Mounting the Azure Container to Databricks File System\n",
    "\n",
    "The data from the competition (https://bitgrit.net/competition/23) has been uploaded to Azure File Blob Storage to leverage the big data tools the platform offers and to facilitate collaboration. \n",
    "In order to use the data with Databricks, I decided to mount the container to Databricks.\n",
    "Below you will find the different steps to do so"
   ]
  },
  {
   "cell_type": "code",
   "execution_count": 0,
   "metadata": {
    "application/vnd.databricks.v1+cell": {
     "cellMetadata": {
      "byteLimit": 2048000,
      "rowLimit": 10000
     },
     "inputWidgets": {},
     "nuid": "ebcdeb35-2820-4072-8e25-b5150df39a62",
     "showTitle": false,
     "tableResultSettingsMap": {},
     "title": ""
    }
   },
   "outputs": [],
   "source": [
    "# Define the dbutils secrets to access the Azure Key Vault\n",
    "# this way I don't leak my secrets to the Bitcoin miners :')\n",
    "scope_name = 'key-vault-scope'\n",
    "secret_name = dbutils.secrets.get(scope = 'key-vault-scope', key = 'nasa-comp-data-sas-token-0-raw-data')\n",
    "key_secret_name = dbutils.secrets.get(scope = 'key-vault-scope', key = 'competitiondata-storage-access-key1')\n",
    "container_name = \"0-raw-data\"\n",
    "storage_account_name = \"competitiondata\""
   ]
  },
  {
   "cell_type": "markdown",
   "metadata": {
    "application/vnd.databricks.v1+cell": {
     "cellMetadata": {},
     "inputWidgets": {},
     "nuid": "102f4bfb-615a-451c-8bb5-631cd5ae7f1e",
     "showTitle": false,
     "tableResultSettingsMap": {},
     "title": ""
    }
   },
   "source": [
    "# Creating a secret scope in Databricks\n",
    "- Go to the Databricks workspace.\n",
    "- Navigate to the URL: https://<databricks-instance>#secrets/createScope ( https://adb-2293949851761684.4.azuredatabricks.net/#secrets/createScope).\n",
    "- Fill in the required fields:\n",
    "Scope Name: Enter a name for your secret scope.\n",
    "DNS Name: Enter the DNS name of your Key Vault (https://atl-nasa-challenge-kv.vault.azure.net/).\n",
    "Resource ID: Enter the Resource ID of your Key Vault (/subscriptions/b0b9b7ad-f69c-4572-a875-9a1fecc576f3/resourceGroups/NASA_AIRPORT_CHALLENGE_2024/providers/Microsoft.KeyVault/vaults/atl-nasa-challenge-kv)."
   ]
  },
  {
   "cell_type": "code",
   "execution_count": 0,
   "metadata": {
    "application/vnd.databricks.v1+cell": {
     "cellMetadata": {
      "byteLimit": 2048000,
      "rowLimit": 10000
     },
     "inputWidgets": {},
     "nuid": "f9679472-26d1-441a-ba65-a774cf28dbc4",
     "showTitle": false,
     "tableResultSettingsMap": {},
     "title": ""
    }
   },
   "outputs": [],
   "source": [
    "spark.conf.set(\"fs.azure.account.key.{0}.blob.core.windows.net\".format(storage_account_name), key_secret_name)"
   ]
  },
  {
   "cell_type": "code",
   "execution_count": 0,
   "metadata": {
    "application/vnd.databricks.v1+cell": {
     "cellMetadata": {
      "byteLimit": 2048000,
      "rowLimit": 10000
     },
     "inputWidgets": {},
     "nuid": "f3bf3385-ba11-4b8d-a2c3-780438918721",
     "showTitle": false,
     "tableResultSettingsMap": {},
     "title": ""
    }
   },
   "outputs": [
    {
     "output_type": "display_data",
     "data": {
      "text/plain": [
       "\u001B[0;31m---------------------------------------------------------------------------\u001B[0m\n",
       "\u001B[0;31mExecutionError\u001B[0m                            Traceback (most recent call last)\n",
       "File \u001B[0;32m<command-1131958806848271>, line 1\u001B[0m\n",
       "\u001B[0;32m----> 1\u001B[0m dbutils\u001B[38;5;241m.\u001B[39mfs\u001B[38;5;241m.\u001B[39mmount(\n",
       "\u001B[1;32m      2\u001B[0m  source \u001B[38;5;241m=\u001B[39m \u001B[38;5;124m\"\u001B[39m\u001B[38;5;124mwasbs://\u001B[39m\u001B[38;5;132;01m{0}\u001B[39;00m\u001B[38;5;124m@\u001B[39m\u001B[38;5;132;01m{1}\u001B[39;00m\u001B[38;5;124m.blob.core.windows.net\u001B[39m\u001B[38;5;124m\"\u001B[39m\u001B[38;5;241m.\u001B[39mformat(container_name, storage_account_name),\n",
       "\u001B[1;32m      3\u001B[0m  mount_point \u001B[38;5;241m=\u001B[39m \u001B[38;5;124m\"\u001B[39m\u001B[38;5;124m/mnt/nasa_challenge\u001B[39m\u001B[38;5;124m\"\u001B[39m,\n",
       "\u001B[1;32m      4\u001B[0m  extra_configs \u001B[38;5;241m=\u001B[39m {\u001B[38;5;124m\"\u001B[39m\u001B[38;5;124mfs.azure.account.key.\u001B[39m\u001B[38;5;132;01m{0}\u001B[39;00m\u001B[38;5;124m.blob.core.windows.net\u001B[39m\u001B[38;5;124m\"\u001B[39m\u001B[38;5;241m.\u001B[39mformat(storage_account_name): key_secret_name}\n",
       "\u001B[1;32m      5\u001B[0m )\n",
       "\n",
       "File \u001B[0;32m/databricks/python_shell/dbruntime/dbutils.py:158\u001B[0m, in \u001B[0;36mprettify_exception_message.<locals>.f_with_exception_handling\u001B[0;34m(*args, **kwargs)\u001B[0m\n",
       "\u001B[1;32m    156\u001B[0m exc\u001B[38;5;241m.\u001B[39m__context__ \u001B[38;5;241m=\u001B[39m \u001B[38;5;28;01mNone\u001B[39;00m\n",
       "\u001B[1;32m    157\u001B[0m exc\u001B[38;5;241m.\u001B[39m__cause__ \u001B[38;5;241m=\u001B[39m \u001B[38;5;28;01mNone\u001B[39;00m\n",
       "\u001B[0;32m--> 158\u001B[0m \u001B[38;5;28;01mraise\u001B[39;00m exc\n",
       "\n",
       "\u001B[0;31mExecutionError\u001B[0m: An error occurred while calling o422.mount.\n",
       ": java.rmi.RemoteException: java.lang.IllegalArgumentException: requirement failed: Directory already mounted: /mnt/nasa_challenge; nested exception is: \n",
       "\tjava.lang.IllegalArgumentException: requirement failed: Directory already mounted: /mnt/nasa_challenge\n",
       "\tat com.databricks.backend.daemon.data.client.DbfsClient.send0(DbfsClient.scala:148)\n",
       "\tat com.databricks.backend.daemon.data.client.DbfsClient.sendIdempotent(DbfsClient.scala:70)\n",
       "\tat com.databricks.backend.daemon.dbutils.DBUtilsCore.createOrUpdateMount(DBUtilsCore.scala:1142)\n",
       "\tat com.databricks.backend.daemon.dbutils.DBUtilsCore.$anonfun$mount$1(DBUtilsCore.scala:1168)\n",
       "\tat com.databricks.logging.UsageLogging.$anonfun$recordOperation$1(UsageLogging.scala:527)\n",
       "\tat com.databricks.logging.UsageLogging.executeThunkAndCaptureResultTags$1(UsageLogging.scala:631)\n",
       "\tat com.databricks.logging.UsageLogging.$anonfun$recordOperationWithResultTags$4(UsageLogging.scala:651)\n",
       "\tat com.databricks.logging.AttributionContextTracing.$anonfun$withAttributionContext$1(AttributionContextTracing.scala:48)\n",
       "\tat com.databricks.logging.AttributionContext$.$anonfun$withValue$1(AttributionContext.scala:276)\n",
       "\tat scala.util.DynamicVariable.withValue(DynamicVariable.scala:62)\n",
       "\tat com.databricks.logging.AttributionContext$.withValue(AttributionContext.scala:272)\n",
       "\tat com.databricks.logging.AttributionContextTracing.withAttributionContext(AttributionContextTracing.scala:46)\n",
       "\tat com.databricks.logging.AttributionContextTracing.withAttributionContext$(AttributionContextTracing.scala:43)\n",
       "\tat com.databricks.backend.daemon.dbutils.FSUtils.withAttributionContext(DBUtilsCore.scala:74)\n",
       "\tat com.databricks.logging.AttributionContextTracing.withAttributionTags(AttributionContextTracing.scala:95)\n",
       "\tat com.databricks.logging.AttributionContextTracing.withAttributionTags$(AttributionContextTracing.scala:76)\n",
       "\tat com.databricks.backend.daemon.dbutils.FSUtils.withAttributionTags(DBUtilsCore.scala:74)\n",
       "\tat com.databricks.logging.UsageLogging.recordOperationWithResultTags(UsageLogging.scala:626)\n",
       "\tat com.databricks.logging.UsageLogging.recordOperationWithResultTags$(UsageLogging.scala:536)\n",
       "\tat com.databricks.backend.daemon.dbutils.FSUtils.recordOperationWithResultTags(DBUtilsCore.scala:74)\n",
       "\tat com.databricks.logging.UsageLogging.recordOperation(UsageLogging.scala:528)\n",
       "\tat com.databricks.logging.UsageLogging.recordOperation$(UsageLogging.scala:496)\n",
       "\tat com.databricks.backend.daemon.dbutils.FSUtils.recordOperation(DBUtilsCore.scala:74)\n",
       "\tat com.databricks.backend.daemon.dbutils.FSUtils.recordDbutilsFsOp(DBUtilsCore.scala:138)\n",
       "\tat com.databricks.backend.daemon.dbutils.DBUtilsCore.mount(DBUtilsCore.scala:1162)\n",
       "\tat sun.reflect.NativeMethodAccessorImpl.invoke0(Native Method)\n",
       "\tat sun.reflect.NativeMethodAccessorImpl.invoke(NativeMethodAccessorImpl.java:62)\n",
       "\tat sun.reflect.DelegatingMethodAccessorImpl.invoke(DelegatingMethodAccessorImpl.java:43)\n",
       "\tat java.lang.reflect.Method.invoke(Method.java:498)\n",
       "\tat py4j.reflection.MethodInvoker.invoke(MethodInvoker.java:244)\n",
       "\tat py4j.reflection.ReflectionEngine.invoke(ReflectionEngine.java:397)\n",
       "\tat py4j.Gateway.invoke(Gateway.java:306)\n",
       "\tat py4j.commands.AbstractCommand.invokeMethod(AbstractCommand.java:132)\n",
       "\tat py4j.commands.CallCommand.execute(CallCommand.java:79)\n",
       "\tat py4j.ClientServerConnection.waitForCommands(ClientServerConnection.java:199)\n",
       "\tat py4j.ClientServerConnection.run(ClientServerConnection.java:119)\n",
       "\tat java.lang.Thread.run(Thread.java:750)\n",
       "Caused by: java.lang.IllegalArgumentException: requirement failed: Directory already mounted: /mnt/nasa_challenge\n",
       "\tat scala.Predef$.require(Predef.scala:281)\n",
       "\tat com.databricks.backend.daemon.data.server.DefaultMetadataManager.$anonfun$insertMount$1(MetadataManager.scala:800)\n",
       "\tat com.databricks.backend.daemon.data.server.DefaultMetadataManager.$anonfun$modifyAndVerify$2(MetadataManager.scala:1182)\n",
       "\tat scala.runtime.java8.JFunction0$mcV$sp.apply(JFunction0$mcV$sp.java:23)\n",
       "\tat com.databricks.backend.daemon.data.server.DefaultMetadataManager.withRetries(MetadataManager.scala:955)\n",
       "\tat com.databricks.backend.daemon.data.server.DefaultMetadataManager.modifyAndVerify(MetadataManager.scala:1171)\n",
       "\tat com.databricks.backend.daemon.data.server.DefaultMetadataManager.insertMount(MetadataManager.scala:808)\n",
       "\tat com.databricks.backend.daemon.data.server.handler.MountHandler.receive(MountHandler.scala:128)\n",
       "\tat com.databricks.backend.daemon.data.server.session.SessionContext.$anonfun$queryHandlers$1(SessionContext.scala:54)\n",
       "\tat com.databricks.backend.daemon.data.server.session.SessionContext.$anonfun$queryHandlers$1$adapted(SessionContext.scala:53)\n",
       "\tat scala.collection.immutable.List.foreach(List.scala:431)\n",
       "\tat com.databricks.backend.daemon.data.server.session.SessionContext.queryHandlers(SessionContext.scala:53)\n",
       "\tat com.databricks.backend.daemon.data.server.DbfsServerBackend$$anonfun$receive$4.$anonfun$applyOrElse$10(DbfsServerBackend.scala:461)\n",
       "\tat com.databricks.logging.AttributionContextTracing.$anonfun$withAttributionContext$1(AttributionContextTracing.scala:48)\n",
       "\tat com.databricks.logging.AttributionContext$.$anonfun$withValue$1(AttributionContext.scala:273)\n",
       "\tat scala.util.DynamicVariable.withValue(DynamicVariable.scala:62)\n",
       "\tat com.databricks.logging.AttributionContext$.withValue(AttributionContext.scala:269)\n",
       "\tat com.databricks.logging.AttributionContextTracing.withAttributionContext(AttributionContextTracing.scala:46)\n",
       "\tat com.databricks.logging.AttributionContextTracing.withAttributionContext$(AttributionContextTracing.scala:43)\n",
       "\tat com.databricks.rpc.ServerBackend.withAttributionContext(ServerBackend.scala:23)\n",
       "\tat com.databricks.logging.AttributionContextTracing.withAttributionTags(AttributionContextTracing.scala:95)\n",
       "\tat com.databricks.logging.AttributionContextTracing.withAttributionTags$(AttributionContextTracing.scala:76)\n",
       "\tat com.databricks.rpc.ServerBackend.withAttributionTags(ServerBackend.scala:23)\n",
       "\tat com.databricks.backend.daemon.data.server.DbfsServerBackend$$anonfun$receive$4.applyOrElse(DbfsServerBackend.scala:461)\n",
       "\tat com.databricks.backend.daemon.data.server.DbfsServerBackend$$anonfun$receive$4.applyOrElse(DbfsServerBackend.scala:354)\n",
       "\tat com.databricks.rpc.ServerBackend.$anonfun$internalReceive0$2(ServerBackend.scala:175)\n",
       "\tat com.databricks.rpc.ServerBackend$$anonfun$commonReceive$1.applyOrElse(ServerBackend.scala:201)\n",
       "\tat com.databricks.rpc.ServerBackend$$anonfun$commonReceive$1.applyOrElse(ServerBackend.scala:201)\n",
       "\tat com.databricks.rpc.ServerBackend.internalReceive0(ServerBackend.scala:172)\n",
       "\tat com.databricks.rpc.ServerBackend.$anonfun$internalReceive$1(ServerBackend.scala:148)\n",
       "\tat com.databricks.logging.UsageLogging.$anonfun$recordOperation$1(UsageLogging.scala:507)\n",
       "\tat com.databricks.logging.UsageLogging.executeThunkAndCaptureResultTags$1(UsageLogging.scala:611)\n",
       "\tat com.databricks.logging.UsageLogging.$anonfun$recordOperationWithResultTags$4(UsageLogging.scala:631)\n",
       "\tat com.databricks.logging.AttributionContextTracing.$anonfun$withAttributionContext$1(AttributionContextTracing.scala:48)\n",
       "\tat com.databricks.logging.AttributionContext$.$anonfun$withValue$1(AttributionContext.scala:273)\n",
       "\tat scala.util.DynamicVariable.withValue(DynamicVariable.scala:62)\n",
       "\tat com.databricks.logging.AttributionContext$.withValue(AttributionContext.scala:269)\n",
       "\tat com.databricks.logging.AttributionContextTracing.withAttributionContext(AttributionContextTracing.scala:46)\n",
       "\tat com.databricks.logging.AttributionContextTracing.withAttributionContext$(AttributionContextTracing.scala:43)\n",
       "\tat com.databricks.rpc.ServerBackend.withAttributionContext(ServerBackend.scala:23)\n",
       "\tat com.databricks.logging.AttributionContextTracing.withAttributionTags(AttributionContextTracing.scala:95)\n",
       "\tat com.databricks.logging.AttributionContextTracing.withAttributionTags$(AttributionContextTracing.scala:76)\n",
       "\tat com.databricks.rpc.ServerBackend.withAttributionTags(ServerBackend.scala:23)\n",
       "\tat com.databricks.logging.UsageLogging.recordOperationWithResultTags(UsageLogging.scala:606)\n",
       "\tat com.databricks.logging.UsageLogging.recordOperationWithResultTags$(UsageLogging.scala:516)\n",
       "\tat com.databricks.rpc.ServerBackend.recordOperationWithResultTags(ServerBackend.scala:23)\n",
       "\tat com.databricks.logging.UsageLogging.recordOperation(UsageLogging.scala:508)\n",
       "\tat com.databricks.logging.UsageLogging.recordOperation$(UsageLogging.scala:476)\n",
       "\tat com.databricks.rpc.ServerBackend.recordOperation(ServerBackend.scala:23)\n",
       "\tat com.databricks.rpc.ServerBackend.internalReceive(ServerBackend.scala:147)\n",
       "\tat com.databricks.rpc.JettyServer$RequestManager.handleRPC(JettyServer.scala:1027)\n",
       "\tat com.databricks.rpc.JettyServer$RequestManager.handleRequestAndRespond(JettyServer.scala:947)\n",
       "\tat com.databricks.rpc.JettyServer$RequestManager.$anonfun$handleHttp$6(JettyServer.scala:547)\n",
       "\tat com.databricks.rpc.JettyServer$RequestManager.$anonfun$handleHttp$6$adapted(JettyServer.scala:516)\n",
       "\tat com.databricks.logging.activity.ActivityContextFactory$.$anonfun$withActivityInternal$8(ActivityContextFactory.scala:678)\n",
       "\tat com.databricks.logging.AttributionContextTracing.$anonfun$withAttributionContext$1(AttributionContextTracing.scala:48)\n",
       "\tat com.databricks.logging.AttributionContext$.$anonfun$withValue$1(AttributionContext.scala:273)\n",
       "\tat scala.util.DynamicVariable.withValue(DynamicVariable.scala:62)\n",
       "\tat com.databricks.logging.AttributionContext$.withValue(AttributionContext.scala:269)\n",
       "\tat com.databricks.logging.AttributionContextTracing.withAttributionContext(AttributionContextTracing.scala:46)\n",
       "\tat com.databricks.logging.AttributionContextTracing.withAttributionContext$(AttributionContextTracing.scala:43)\n",
       "\tat com.databricks.logging.activity.ActivityContextFactory$.withAttributionContext(ActivityContextFactory.scala:48)\n",
       "\tat com.databricks.logging.activity.ActivityContextFactory$.$anonfun$withActivityInternal$2(ActivityContextFactory.scala:678)\n",
       "\tat com.databricks.context.integrity.IntegrityCheckContext$ThreadLocalStorage$.withValue(IntegrityCheckContext.scala:73)\n",
       "\tat com.databricks.logging.activity.ActivityContextFactory$.withActivityInternal(ActivityContextFactory.scala:649)\n",
       "\tat com.databricks.logging.activity.ActivityContextFactory$.withActivityInternal(ActivityContextFactory.scala:631)\n",
       "\tat com.databricks.logging.activity.ActivityContextFactory$.withServiceRequestActivity(ActivityContextFactory.scala:250)\n",
       "\tat com.databricks.rpc.JettyServer$RequestManager.handleHttp(JettyServer.scala:516)\n",
       "\tat com.databricks.rpc.JettyServer$RequestManager.doPost(JettyServer.scala:406)\n",
       "\tat javax.servlet.http.HttpServlet.service(HttpServlet.java:665)\n",
       "\tat com.databricks.rpc.HttpServletWithPatch.service(HttpServletWithPatch.scala:33)\n",
       "\tat javax.servlet.http.HttpServlet.service(HttpServlet.java:750)\n",
       "\tat org.eclipse.jetty.servlet.ServletHolder.handle(ServletHolder.java:799)\n",
       "\tat org.eclipse.jetty.servlet.ServletHandler.doHandle(ServletHandler.java:554)\n",
       "\tat org.eclipse.jetty.server.handler.ScopedHandler.nextScope(ScopedHandler.java:190)\n",
       "\tat org.eclipse.jetty.servlet.ServletHandler.doScope(ServletHandler.java:505)\n",
       "\tat org.eclipse.jetty.server.handler.ScopedHandler.handle(ScopedHandler.java:141)\n",
       "\tat org.eclipse.jetty.server.handler.HandlerWrapper.handle(HandlerWrapper.java:127)\n",
       "\tat org.eclipse.jetty.server.Server.handle(Server.java:516)\n",
       "\tat org.eclipse.jetty.server.HttpChannel.lambda$handle$1(HttpChannel.java:487)\n",
       "\tat org.eclipse.jetty.server.HttpChannel.dispatch(HttpChannel.java:732)\n",
       "\tat org.eclipse.jetty.server.HttpChannel.handle(HttpChannel.java:479)\n",
       "\tat org.eclipse.jetty.server.HttpConnection.onFillable(HttpConnection.java:277)\n",
       "\tat org.eclipse.jetty.io.AbstractConnection$ReadCallback.succeeded(AbstractConnection.java:311)\n",
       "\tat org.eclipse.jetty.io.FillInterest.fillable(FillInterest.java:105)\n",
       "\tat org.eclipse.jetty.io.ChannelEndPoint$1.run(ChannelEndPoint.java:104)\n",
       "\tat org.eclipse.jetty.util.thread.strategy.EatWhatYouKill.runTask(EatWhatYouKill.java:338)\n",
       "\tat org.eclipse.jetty.util.thread.strategy.EatWhatYouKill.doProduce(EatWhatYouKill.java:315)\n",
       "\tat org.eclipse.jetty.util.thread.strategy.EatWhatYouKill.tryProduce(EatWhatYouKill.java:173)\n",
       "\tat org.eclipse.jetty.util.thread.strategy.EatWhatYouKill.run(EatWhatYouKill.java:131)\n",
       "\tat org.eclipse.jetty.util.thread.ReservedThreadExecutor$ReservedThread.run(ReservedThreadExecutor.java:409)\n",
       "\tat com.databricks.rpc.InstrumentedQueuedThreadPool$$anon$1.$anonfun$run$2(InstrumentedQueuedThreadPool.scala:110)\n",
       "\tat scala.runtime.java8.JFunction0$mcV$sp.apply(JFunction0$mcV$sp.java:23)\n",
       "\tat com.databricks.logging.AttributionContextTracing.$anonfun$withAttributionContext$1(AttributionContextTracing.scala:48)\n",
       "\tat com.databricks.logging.AttributionContext$.$anonfun$withValue$1(AttributionContext.scala:273)\n",
       "\tat scala.util.DynamicVariable.withValue(DynamicVariable.scala:62)\n",
       "\tat com.databricks.logging.AttributionContext$.withValue(AttributionContext.scala:269)\n",
       "\tat com.databricks.logging.AttributionContextTracing.withAttributionContext(AttributionContextTracing.scala:46)\n",
       "\tat com.databricks.logging.AttributionContextTracing.withAttributionContext$(AttributionContextTracing.scala:43)\n",
       "\tat com.databricks.rpc.InstrumentedQueuedThreadPool.withAttributionContext(InstrumentedQueuedThreadPool.scala:45)\n",
       "\tat com.databricks.rpc.InstrumentedQueuedThreadPool$$anon$1.$anonfun$run$1(InstrumentedQueuedThreadPool.scala:110)\n",
       "\tat scala.runtime.java8.JFunction0$mcV$sp.apply(JFunction0$mcV$sp.java:23)\n",
       "\tat com.databricks.instrumentation.QueuedThreadPoolInstrumenter.trackActiveThreads(QueuedThreadPoolInstrumenter.scala:126)\n",
       "\tat com.databricks.instrumentation.QueuedThreadPoolInstrumenter.trackActiveThreads$(QueuedThreadPoolInstrumenter.scala:123)\n",
       "\tat com.databricks.rpc.InstrumentedQueuedThreadPool.trackActiveThreads(InstrumentedQueuedThreadPool.scala:45)\n",
       "\tat com.databricks.rpc.InstrumentedQueuedThreadPool$$anon$1.run(InstrumentedQueuedThreadPool.scala:92)\n",
       "\tat org.eclipse.jetty.util.thread.QueuedThreadPool.runJob(QueuedThreadPool.java:883)\n",
       "\tat org.eclipse.jetty.util.thread.QueuedThreadPool$Runner.run(QueuedThreadPool.java:1034)\n",
       "\tat java.lang.Thread.run(Thread.java:840)\n"
      ]
     },
     "metadata": {
      "application/vnd.databricks.v1+output": {
       "addedWidgets": {},
       "arguments": {},
       "datasetInfos": [],
       "jupyterProps": {
        "ename": "ExecutionError",
        "evalue": "An error occurred while calling o422.mount.\n: java.rmi.RemoteException: java.lang.IllegalArgumentException: requirement failed: Directory already mounted: /mnt/nasa_challenge; nested exception is: \n\tjava.lang.IllegalArgumentException: requirement failed: Directory already mounted: /mnt/nasa_challenge\n\tat com.databricks.backend.daemon.data.client.DbfsClient.send0(DbfsClient.scala:148)\n\tat com.databricks.backend.daemon.data.client.DbfsClient.sendIdempotent(DbfsClient.scala:70)\n\tat com.databricks.backend.daemon.dbutils.DBUtilsCore.createOrUpdateMount(DBUtilsCore.scala:1142)\n\tat com.databricks.backend.daemon.dbutils.DBUtilsCore.$anonfun$mount$1(DBUtilsCore.scala:1168)\n\tat com.databricks.logging.UsageLogging.$anonfun$recordOperation$1(UsageLogging.scala:527)\n\tat com.databricks.logging.UsageLogging.executeThunkAndCaptureResultTags$1(UsageLogging.scala:631)\n\tat com.databricks.logging.UsageLogging.$anonfun$recordOperationWithResultTags$4(UsageLogging.scala:651)\n\tat com.databricks.logging.AttributionContextTracing.$anonfun$withAttributionContext$1(AttributionContextTracing.scala:48)\n\tat com.databricks.logging.AttributionContext$.$anonfun$withValue$1(AttributionContext.scala:276)\n\tat scala.util.DynamicVariable.withValue(DynamicVariable.scala:62)\n\tat com.databricks.logging.AttributionContext$.withValue(AttributionContext.scala:272)\n\tat com.databricks.logging.AttributionContextTracing.withAttributionContext(AttributionContextTracing.scala:46)\n\tat com.databricks.logging.AttributionContextTracing.withAttributionContext$(AttributionContextTracing.scala:43)\n\tat com.databricks.backend.daemon.dbutils.FSUtils.withAttributionContext(DBUtilsCore.scala:74)\n\tat com.databricks.logging.AttributionContextTracing.withAttributionTags(AttributionContextTracing.scala:95)\n\tat com.databricks.logging.AttributionContextTracing.withAttributionTags$(AttributionContextTracing.scala:76)\n\tat com.databricks.backend.daemon.dbutils.FSUtils.withAttributionTags(DBUtilsCore.scala:74)\n\tat com.databricks.logging.UsageLogging.recordOperationWithResultTags(UsageLogging.scala:626)\n\tat com.databricks.logging.UsageLogging.recordOperationWithResultTags$(UsageLogging.scala:536)\n\tat com.databricks.backend.daemon.dbutils.FSUtils.recordOperationWithResultTags(DBUtilsCore.scala:74)\n\tat com.databricks.logging.UsageLogging.recordOperation(UsageLogging.scala:528)\n\tat com.databricks.logging.UsageLogging.recordOperation$(UsageLogging.scala:496)\n\tat com.databricks.backend.daemon.dbutils.FSUtils.recordOperation(DBUtilsCore.scala:74)\n\tat com.databricks.backend.daemon.dbutils.FSUtils.recordDbutilsFsOp(DBUtilsCore.scala:138)\n\tat com.databricks.backend.daemon.dbutils.DBUtilsCore.mount(DBUtilsCore.scala:1162)\n\tat sun.reflect.NativeMethodAccessorImpl.invoke0(Native Method)\n\tat sun.reflect.NativeMethodAccessorImpl.invoke(NativeMethodAccessorImpl.java:62)\n\tat sun.reflect.DelegatingMethodAccessorImpl.invoke(DelegatingMethodAccessorImpl.java:43)\n\tat java.lang.reflect.Method.invoke(Method.java:498)\n\tat py4j.reflection.MethodInvoker.invoke(MethodInvoker.java:244)\n\tat py4j.reflection.ReflectionEngine.invoke(ReflectionEngine.java:397)\n\tat py4j.Gateway.invoke(Gateway.java:306)\n\tat py4j.commands.AbstractCommand.invokeMethod(AbstractCommand.java:132)\n\tat py4j.commands.CallCommand.execute(CallCommand.java:79)\n\tat py4j.ClientServerConnection.waitForCommands(ClientServerConnection.java:199)\n\tat py4j.ClientServerConnection.run(ClientServerConnection.java:119)\n\tat java.lang.Thread.run(Thread.java:750)\nCaused by: java.lang.IllegalArgumentException: requirement failed: Directory already mounted: /mnt/nasa_challenge\n\tat scala.Predef$.require(Predef.scala:281)\n\tat com.databricks.backend.daemon.data.server.DefaultMetadataManager.$anonfun$insertMount$1(MetadataManager.scala:800)\n\tat com.databricks.backend.daemon.data.server.DefaultMetadataManager.$anonfun$modifyAndVerify$2(MetadataManager.scala:1182)\n\tat scala.runtime.java8.JFunction0$mcV$sp.apply(JFunction0$mcV$sp.java:23)\n\tat com.databricks.backend.daemon.data.server.DefaultMetadataManager.withRetries(MetadataManager.scala:955)\n\tat com.databricks.backend.daemon.data.server.DefaultMetadataManager.modifyAndVerify(MetadataManager.scala:1171)\n\tat com.databricks.backend.daemon.data.server.DefaultMetadataManager.insertMount(MetadataManager.scala:808)\n\tat com.databricks.backend.daemon.data.server.handler.MountHandler.receive(MountHandler.scala:128)\n\tat com.databricks.backend.daemon.data.server.session.SessionContext.$anonfun$queryHandlers$1(SessionContext.scala:54)\n\tat com.databricks.backend.daemon.data.server.session.SessionContext.$anonfun$queryHandlers$1$adapted(SessionContext.scala:53)\n\tat scala.collection.immutable.List.foreach(List.scala:431)\n\tat com.databricks.backend.daemon.data.server.session.SessionContext.queryHandlers(SessionContext.scala:53)\n\tat com.databricks.backend.daemon.data.server.DbfsServerBackend$$anonfun$receive$4.$anonfun$applyOrElse$10(DbfsServerBackend.scala:461)\n\tat com.databricks.logging.AttributionContextTracing.$anonfun$withAttributionContext$1(AttributionContextTracing.scala:48)\n\tat com.databricks.logging.AttributionContext$.$anonfun$withValue$1(AttributionContext.scala:273)\n\tat scala.util.DynamicVariable.withValue(DynamicVariable.scala:62)\n\tat com.databricks.logging.AttributionContext$.withValue(AttributionContext.scala:269)\n\tat com.databricks.logging.AttributionContextTracing.withAttributionContext(AttributionContextTracing.scala:46)\n\tat com.databricks.logging.AttributionContextTracing.withAttributionContext$(AttributionContextTracing.scala:43)\n\tat com.databricks.rpc.ServerBackend.withAttributionContext(ServerBackend.scala:23)\n\tat com.databricks.logging.AttributionContextTracing.withAttributionTags(AttributionContextTracing.scala:95)\n\tat com.databricks.logging.AttributionContextTracing.withAttributionTags$(AttributionContextTracing.scala:76)\n\tat com.databricks.rpc.ServerBackend.withAttributionTags(ServerBackend.scala:23)\n\tat com.databricks.backend.daemon.data.server.DbfsServerBackend$$anonfun$receive$4.applyOrElse(DbfsServerBackend.scala:461)\n\tat com.databricks.backend.daemon.data.server.DbfsServerBackend$$anonfun$receive$4.applyOrElse(DbfsServerBackend.scala:354)\n\tat com.databricks.rpc.ServerBackend.$anonfun$internalReceive0$2(ServerBackend.scala:175)\n\tat com.databricks.rpc.ServerBackend$$anonfun$commonReceive$1.applyOrElse(ServerBackend.scala:201)\n\tat com.databricks.rpc.ServerBackend$$anonfun$commonReceive$1.applyOrElse(ServerBackend.scala:201)\n\tat com.databricks.rpc.ServerBackend.internalReceive0(ServerBackend.scala:172)\n\tat com.databricks.rpc.ServerBackend.$anonfun$internalReceive$1(ServerBackend.scala:148)\n\tat com.databricks.logging.UsageLogging.$anonfun$recordOperation$1(UsageLogging.scala:507)\n\tat com.databricks.logging.UsageLogging.executeThunkAndCaptureResultTags$1(UsageLogging.scala:611)\n\tat com.databricks.logging.UsageLogging.$anonfun$recordOperationWithResultTags$4(UsageLogging.scala:631)\n\tat com.databricks.logging.AttributionContextTracing.$anonfun$withAttributionContext$1(AttributionContextTracing.scala:48)\n\tat com.databricks.logging.AttributionContext$.$anonfun$withValue$1(AttributionContext.scala:273)\n\tat scala.util.DynamicVariable.withValue(DynamicVariable.scala:62)\n\tat com.databricks.logging.AttributionContext$.withValue(AttributionContext.scala:269)\n\tat com.databricks.logging.AttributionContextTracing.withAttributionContext(AttributionContextTracing.scala:46)\n\tat com.databricks.logging.AttributionContextTracing.withAttributionContext$(AttributionContextTracing.scala:43)\n\tat com.databricks.rpc.ServerBackend.withAttributionContext(ServerBackend.scala:23)\n\tat com.databricks.logging.AttributionContextTracing.withAttributionTags(AttributionContextTracing.scala:95)\n\tat com.databricks.logging.AttributionContextTracing.withAttributionTags$(AttributionContextTracing.scala:76)\n\tat com.databricks.rpc.ServerBackend.withAttributionTags(ServerBackend.scala:23)\n\tat com.databricks.logging.UsageLogging.recordOperationWithResultTags(UsageLogging.scala:606)\n\tat com.databricks.logging.UsageLogging.recordOperationWithResultTags$(UsageLogging.scala:516)\n\tat com.databricks.rpc.ServerBackend.recordOperationWithResultTags(ServerBackend.scala:23)\n\tat com.databricks.logging.UsageLogging.recordOperation(UsageLogging.scala:508)\n\tat com.databricks.logging.UsageLogging.recordOperation$(UsageLogging.scala:476)\n\tat com.databricks.rpc.ServerBackend.recordOperation(ServerBackend.scala:23)\n\tat com.databricks.rpc.ServerBackend.internalReceive(ServerBackend.scala:147)\n\tat com.databricks.rpc.JettyServer$RequestManager.handleRPC(JettyServer.scala:1027)\n\tat com.databricks.rpc.JettyServer$RequestManager.handleRequestAndRespond(JettyServer.scala:947)\n\tat com.databricks.rpc.JettyServer$RequestManager.$anonfun$handleHttp$6(JettyServer.scala:547)\n\tat com.databricks.rpc.JettyServer$RequestManager.$anonfun$handleHttp$6$adapted(JettyServer.scala:516)\n\tat com.databricks.logging.activity.ActivityContextFactory$.$anonfun$withActivityInternal$8(ActivityContextFactory.scala:678)\n\tat com.databricks.logging.AttributionContextTracing.$anonfun$withAttributionContext$1(AttributionContextTracing.scala:48)\n\tat com.databricks.logging.AttributionContext$.$anonfun$withValue$1(AttributionContext.scala:273)\n\tat scala.util.DynamicVariable.withValue(DynamicVariable.scala:62)\n\tat com.databricks.logging.AttributionContext$.withValue(AttributionContext.scala:269)\n\tat com.databricks.logging.AttributionContextTracing.withAttributionContext(AttributionContextTracing.scala:46)\n\tat com.databricks.logging.AttributionContextTracing.withAttributionContext$(AttributionContextTracing.scala:43)\n\tat com.databricks.logging.activity.ActivityContextFactory$.withAttributionContext(ActivityContextFactory.scala:48)\n\tat com.databricks.logging.activity.ActivityContextFactory$.$anonfun$withActivityInternal$2(ActivityContextFactory.scala:678)\n\tat com.databricks.context.integrity.IntegrityCheckContext$ThreadLocalStorage$.withValue(IntegrityCheckContext.scala:73)\n\tat com.databricks.logging.activity.ActivityContextFactory$.withActivityInternal(ActivityContextFactory.scala:649)\n\tat com.databricks.logging.activity.ActivityContextFactory$.withActivityInternal(ActivityContextFactory.scala:631)\n\tat com.databricks.logging.activity.ActivityContextFactory$.withServiceRequestActivity(ActivityContextFactory.scala:250)\n\tat com.databricks.rpc.JettyServer$RequestManager.handleHttp(JettyServer.scala:516)\n\tat com.databricks.rpc.JettyServer$RequestManager.doPost(JettyServer.scala:406)\n\tat javax.servlet.http.HttpServlet.service(HttpServlet.java:665)\n\tat com.databricks.rpc.HttpServletWithPatch.service(HttpServletWithPatch.scala:33)\n\tat javax.servlet.http.HttpServlet.service(HttpServlet.java:750)\n\tat org.eclipse.jetty.servlet.ServletHolder.handle(ServletHolder.java:799)\n\tat org.eclipse.jetty.servlet.ServletHandler.doHandle(ServletHandler.java:554)\n\tat org.eclipse.jetty.server.handler.ScopedHandler.nextScope(ScopedHandler.java:190)\n\tat org.eclipse.jetty.servlet.ServletHandler.doScope(ServletHandler.java:505)\n\tat org.eclipse.jetty.server.handler.ScopedHandler.handle(ScopedHandler.java:141)\n\tat org.eclipse.jetty.server.handler.HandlerWrapper.handle(HandlerWrapper.java:127)\n\tat org.eclipse.jetty.server.Server.handle(Server.java:516)\n\tat org.eclipse.jetty.server.HttpChannel.lambda$handle$1(HttpChannel.java:487)\n\tat org.eclipse.jetty.server.HttpChannel.dispatch(HttpChannel.java:732)\n\tat org.eclipse.jetty.server.HttpChannel.handle(HttpChannel.java:479)\n\tat org.eclipse.jetty.server.HttpConnection.onFillable(HttpConnection.java:277)\n\tat org.eclipse.jetty.io.AbstractConnection$ReadCallback.succeeded(AbstractConnection.java:311)\n\tat org.eclipse.jetty.io.FillInterest.fillable(FillInterest.java:105)\n\tat org.eclipse.jetty.io.ChannelEndPoint$1.run(ChannelEndPoint.java:104)\n\tat org.eclipse.jetty.util.thread.strategy.EatWhatYouKill.runTask(EatWhatYouKill.java:338)\n\tat org.eclipse.jetty.util.thread.strategy.EatWhatYouKill.doProduce(EatWhatYouKill.java:315)\n\tat org.eclipse.jetty.util.thread.strategy.EatWhatYouKill.tryProduce(EatWhatYouKill.java:173)\n\tat org.eclipse.jetty.util.thread.strategy.EatWhatYouKill.run(EatWhatYouKill.java:131)\n\tat org.eclipse.jetty.util.thread.ReservedThreadExecutor$ReservedThread.run(ReservedThreadExecutor.java:409)\n\tat com.databricks.rpc.InstrumentedQueuedThreadPool$$anon$1.$anonfun$run$2(InstrumentedQueuedThreadPool.scala:110)\n\tat scala.runtime.java8.JFunction0$mcV$sp.apply(JFunction0$mcV$sp.java:23)\n\tat com.databricks.logging.AttributionContextTracing.$anonfun$withAttributionContext$1(AttributionContextTracing.scala:48)\n\tat com.databricks.logging.AttributionContext$.$anonfun$withValue$1(AttributionContext.scala:273)\n\tat scala.util.DynamicVariable.withValue(DynamicVariable.scala:62)\n\tat com.databricks.logging.AttributionContext$.withValue(AttributionContext.scala:269)\n\tat com.databricks.logging.AttributionContextTracing.withAttributionContext(AttributionContextTracing.scala:46)\n\tat com.databricks.logging.AttributionContextTracing.withAttributionContext$(AttributionContextTracing.scala:43)\n\tat com.databricks.rpc.InstrumentedQueuedThreadPool.withAttributionContext(InstrumentedQueuedThreadPool.scala:45)\n\tat com.databricks.rpc.InstrumentedQueuedThreadPool$$anon$1.$anonfun$run$1(InstrumentedQueuedThreadPool.scala:110)\n\tat scala.runtime.java8.JFunction0$mcV$sp.apply(JFunction0$mcV$sp.java:23)\n\tat com.databricks.instrumentation.QueuedThreadPoolInstrumenter.trackActiveThreads(QueuedThreadPoolInstrumenter.scala:126)\n\tat com.databricks.instrumentation.QueuedThreadPoolInstrumenter.trackActiveThreads$(QueuedThreadPoolInstrumenter.scala:123)\n\tat com.databricks.rpc.InstrumentedQueuedThreadPool.trackActiveThreads(InstrumentedQueuedThreadPool.scala:45)\n\tat com.databricks.rpc.InstrumentedQueuedThreadPool$$anon$1.run(InstrumentedQueuedThreadPool.scala:92)\n\tat org.eclipse.jetty.util.thread.QueuedThreadPool.runJob(QueuedThreadPool.java:883)\n\tat org.eclipse.jetty.util.thread.QueuedThreadPool$Runner.run(QueuedThreadPool.java:1034)\n\tat java.lang.Thread.run(Thread.java:840)\n"
       },
       "metadata": {
        "errorSummary": "<span class='ansi-red-fg'>ExecutionError</span>: An error occurred while calling o422.mount.\n: java.rmi.RemoteException: java.lang.IllegalArgumentException: requirement failed: Directory already mounted: /mnt/nasa_challenge; nested exception is: \n\tjava.lang.IllegalArgumentException: requirement failed: Directory already mounted: /mnt/nasa_challenge\n\tat com.databricks.backend.daemon.data.client.DbfsClient.send0(DbfsClient.scala:148)\n\tat com.databricks.backend.daemon.data.client.DbfsClient.sendIdempotent(DbfsClient.scala:70)\n\tat com.databricks.backend.daemon.dbutils.DBUtilsCore.createOrUpdateMount(DBUtilsCore.scala:1142)\n\tat com.databricks.backend.daemon.dbutils.DBUtilsCore.$anonfun$mount$1(DBUtilsCore.scala:1168)\n\tat com.databricks.logging.UsageLogging.$anonfun$recordOperation$1(UsageLogging.scala:527)\n\tat com.databricks.logging.UsageLogging.executeThunkAndCaptureResultTags$1(UsageLogging.scala:631)\n\tat com.databricks.logging.UsageLogging.$anonfun$recordOperationWithResultTags$4(UsageLogging.scala:651)\n\tat com.databricks.logging.AttributionContextTracing.$anonfun$withAttributionContext$1(AttributionContextTracing.scala:48)\n\tat com.databricks.logging.AttributionContext$.$anonfun$withValue$1(AttributionContext.scala:276)\n\tat scala.util.DynamicVariable.withValue(DynamicVariable.scala:62)\n\tat com.databricks.logging.AttributionContext$.withValue(AttributionContext.scala:272)\n\tat com.databricks.logging.AttributionContextTracing.withAttributionContext(AttributionContextTracing.scala:46)\n\tat com.databricks.logging.AttributionContextTracing.withAttributionContext$(AttributionContextTracing.scala:43)\n\tat com.databricks.backend.daemon.dbutils.FSUtils.withAttributionContext(DBUtilsCore.scala:74)\n\tat com.databricks.logging.AttributionContextTracing.withAttributionTags(AttributionContextTracing.scala:95)\n\tat com.databricks.logging.AttributionContextTracing.withAttributionTags$(AttributionContextTracing.scala:76)\n\tat com.databricks.backend.daemon.dbutils.FSUtils.withAttributionTags(DBUtilsCore.scala:74)\n\tat com.databricks.logging.UsageLogging.recordOperationWithResultTags(UsageLogging.scala:626)\n\tat com.databricks.logging.UsageLogging.recordOperationWithResultTags$(UsageLogging.scala:536)\n\tat com.databricks.backend.daemon.dbutils.FSUtils.recordOperationWithResultTags(DBUtilsCore.scala:74)\n\tat com.databricks.logging.UsageLogging.recordOperation(UsageLogging.scala:528)\n\tat com.databricks.logging.UsageLogging.recordOperation$(UsageLogging.scala:496)\n\tat com.databricks.backend.daemon.dbutils.FSUtils.recordOperation(DBUtilsCore.scala:74)\n\tat com.databricks.backend.daemon.dbutils.FSUtils.recordDbutilsFsOp(DBUtilsCore.scala:138)\n\tat com.databricks.backend.daemon.dbutils.DBUtilsCore.mount(DBUtilsCore.scala:1162)\n\tat sun.reflect.NativeMethodAccessorImpl.invoke0(Native Method)\n\tat sun.reflect.NativeMethodAccessorImpl.invoke(NativeMethodAccessorImpl.java:62)\n\tat sun.reflect.DelegatingMethodAccessorImpl.invoke(DelegatingMethodAccessorImpl.java:43)\n\tat java.lang.reflect.Method.invoke(Method.java:498)\n\tat py4j.reflection.MethodInvoker.invoke(MethodInvoker.java:244)\n\tat py4j.reflection.ReflectionEngine.invoke(ReflectionEngine.java:397)\n\tat py4j.Gateway.invoke(Gateway.java:306)\n\tat py4j.commands.AbstractCommand.invokeMethod(AbstractCommand.java:132)\n\tat py4j.commands.CallCommand.execute(CallCommand.java:79)\n\tat py4j.ClientServerConnection.waitForCommands(ClientServerConnection.java:199)\n\tat py4j.ClientServerConnection.run(ClientServerConnection.java:119)\n\tat java.lang.Thread.run(Thread.java:750)\nCaused by: java.lang.IllegalArgumentException: requirement failed: Directory already mounted: /mnt/nasa_challenge\n\tat scala.Predef$.require(Predef.scala:281)\n\tat com.databricks.backend.daemon.data.server.DefaultMetadataManager.$anonfun$insertMount$1(MetadataManager.scala:800)\n\tat com.databricks.backend.daemon.data.server.DefaultMetadataManager.$anonfun$modifyAndVerify$2(MetadataManager.scala:1182)\n\tat scala.runtime.java8.JFunction0$mcV$sp.apply(JFunction0$mcV$sp.java:23)\n\tat com.databricks.backend.daemon.data.server.DefaultMetadataManager.withRetries(MetadataManager.scala:955)\n\tat com.databricks.backend.daemon.data.server.DefaultMetadataManager.modifyAndVerify(MetadataManager.scala:1171)\n\tat com.databricks.backend.daemon.data.server.DefaultMetadataManager.insertMount(MetadataManager.scala:808)\n\tat com.databricks.backend.daemon.data.server.handler.MountHandler.receive(MountHandler.scala:128)\n\tat com.databricks.backend.daemon.data.server.session.SessionContext.$anonfun$queryHandlers$1(SessionContext.scala:54)\n\tat com.databricks.backend.daemon.data.server.session.SessionContext.$anonfun$queryHandlers$1$adapted(SessionContext.scala:53)\n\tat scala.collection.immutable.List.foreach(List.scala:431)\n\tat com.databricks.backend.daemon.data.server.session.SessionContext.queryHandlers(SessionContext.scala:53)\n\tat com.databricks.backend.daemon.data.server.DbfsServerBackend$$anonfun$receive$4.$anonfun$applyOrElse$10(DbfsServerBackend.scala:461)\n\tat com.databricks.logging.AttributionContextTracing.$anonfun$withAttributionContext$1(AttributionContextTracing.scala:48)\n\tat com.databricks.logging.AttributionContext$.$anonfun$withValue$1(AttributionContext.scala:273)\n\tat scala.util.DynamicVariable.withValue(DynamicVariable.scala:62)\n\tat com.databricks.logging.AttributionContext$.withValue(AttributionContext.scala:269)\n\tat com.databricks.logging.AttributionContextTracing.withAttributionContext(AttributionContextTracing.scala:46)\n\tat com.databricks.logging.AttributionContextTracing.withAttributionContext$(AttributionContextTracing.scala:43)\n\tat com.databricks.rpc.ServerBackend.withAttributionContext(ServerBackend.scala:23)\n\tat com.databricks.logging.AttributionContextTracing.withAttributionTags(AttributionContextTracing.scala:95)\n\tat com.databricks.logging.AttributionContextTracing.withAttributionTags$(AttributionContextTracing.scala:76)\n\tat com.databricks.rpc.ServerBackend.withAttributionTags(ServerBackend.scala:23)\n\tat com.databricks.backend.daemon.data.server.DbfsServerBackend$$anonfun$receive$4.applyOrElse(DbfsServerBackend.scala:461)\n\tat com.databricks.backend.daemon.data.server.DbfsServerBackend$$anonfun$receive$4.applyOrElse(DbfsServerBackend.scala:354)\n\tat com.databricks.rpc.ServerBackend.$anonfun$internalReceive0$2(ServerBackend.scala:175)\n\tat com.databricks.rpc.ServerBackend$$anonfun$commonReceive$1.applyOrElse(ServerBackend.scala:201)\n\tat com.databricks.rpc.ServerBackend$$anonfun$commonReceive$1.applyOrElse(ServerBackend.scala:201)\n\tat com.databricks.rpc.ServerBackend.internalReceive0(ServerBackend.scala:172)\n\tat com.databricks.rpc.ServerBackend.$anonfun$internalReceive$1(ServerBackend.scala:148)\n\tat com.databricks.logging.UsageLogging.$anonfun$recordOperation$1(UsageLogging.scala:507)\n\tat com.databricks.logging.UsageLogging.executeThunkAndCaptureResultTags$1(UsageLogging.scala:611)\n\tat com.databricks.logging.UsageLogging.$anonfun$recordOperationWithResultTags$4(UsageLogging.scala:631)\n\tat com.databricks.logging.AttributionContextTracing.$anonfun$withAttributionContext$1(AttributionContextTracing.scala:48)\n\tat com.databricks.logging.AttributionContext$.$anonfun$withValue$1(AttributionContext.scala:273)\n\tat scala.util.DynamicVariable.withValue(DynamicVariable.scala:62)\n\tat com.databricks.logging.AttributionContext$.withValue(AttributionContext.scala:269)\n\tat com.databricks.logging.AttributionContextTracing.withAttributionContext(AttributionContextTracing.scala:46)\n\tat com.databricks.logging.AttributionContextTracing.withAttributionContext$(AttributionContextTracing.scala:43)\n\tat com.databricks.rpc.ServerBackend.withAttributionContext(ServerBackend.scala:23)\n\tat com.databricks.logging.AttributionContextTracing.withAttributionTags(AttributionContextTracing.scala:95)\n\tat com.databricks.logging.AttributionContextTracing.withAttributionTags$(AttributionContextTracing.scala:76)\n\tat com.databricks.rpc.ServerBackend.withAttributionTags(ServerBackend.scala:23)\n\tat com.databricks.logging.UsageLogging.recordOperationWithResultTags(UsageLogging.scala:606)\n\tat com.databricks.logging.UsageLogging.recordOperationWithResultTags$(UsageLogging.scala:516)\n\tat com.databricks.rpc.ServerBackend.recordOperationWithResultTags(ServerBackend.scala:23)\n\tat com.databricks.logging.UsageLogging.recordOperation(UsageLogging.scala:508)\n\tat com.databricks.logging.UsageLogging.recordOperation$(UsageLogging.scala:476)\n\tat com.databricks.rpc.ServerBackend.recordOperation(ServerBackend.scala:23)\n\tat com.databricks.rpc.ServerBackend.internalReceive(ServerBackend.scala:147)\n\tat com.databricks.rpc.JettyServer$RequestManager.handleRPC(JettyServer.scala:1027)\n\tat com.databricks.rpc.JettyServer$RequestManager.handleRequestAndRespond(JettyServer.scala:947)\n\tat com.databricks.rpc.JettyServer$RequestManager.$anonfun$handleHttp$6(JettyServer.scala:547)\n\tat com.databricks.rpc.JettyServer$RequestManager.$anonfun$handleHttp$6$adapted(JettyServer.scala:516)\n\tat com.databricks.logging.activity.ActivityContextFactory$.$anonfun$withActivityInternal$8(ActivityContextFactory.scala:678)\n\tat com.databricks.logging.AttributionContextTracing.$anonfun$withAttributionContext$1(AttributionContextTracing.scala:48)\n\tat com.databricks.logging.AttributionContext$.$anonfun$withValue$1(AttributionContext.scala:273)\n\tat scala.util.DynamicVariable.withValue(DynamicVariable.scala:62)\n\tat com.databricks.logging.AttributionContext$.withValue(AttributionContext.scala:269)\n\tat com.databricks.logging.AttributionContextTracing.withAttributionContext(AttributionContextTracing.scala:46)\n\tat com.databricks.logging.AttributionContextTracing.withAttributionContext$(AttributionContextTracing.scala:43)\n\tat com.databricks.logging.activity.ActivityContextFactory$.withAttributionContext(ActivityContextFactory.scala:48)\n\tat com.databricks.logging.activity.ActivityContextFactory$.$anonfun$withActivityInternal$2(ActivityContextFactory.scala:678)\n\tat com.databricks.context.integrity.IntegrityCheckContext$ThreadLocalStorage$.withValue(IntegrityCheckContext.scala:73)\n\tat com.databricks.logging.activity.ActivityContextFactory$.withActivityInternal(ActivityContextFactory.scala:649)\n\tat com.databricks.logging.activity.ActivityContextFactory$.withActivityInternal(ActivityContextFactory.scala:631)\n\tat com.databricks.logging.activity.ActivityContextFactory$.withServiceRequestActivity(ActivityContextFactory.scala:250)\n\tat com.databricks.rpc.JettyServer$RequestManager.handleHttp(JettyServer.scala:516)\n\tat com.databricks.rpc.JettyServer$RequestManager.doPost(JettyServer.scala:406)\n\tat javax.servlet.http.HttpServlet.service(HttpServlet.java:665)\n\tat com.databricks.rpc.HttpServletWithPatch.service(HttpServletWithPatch.scala:33)\n\tat javax.servlet.http.HttpServlet.service(HttpServlet.java:750)\n\tat org.eclipse.jetty.servlet.ServletHolder.handle(ServletHolder.java:799)\n\tat org.eclipse.jetty.servlet.ServletHandler.doHandle(ServletHandler.java:554)\n\tat org.eclipse.jetty.server.handler.ScopedHandler.nextScope(ScopedHandler.java:190)\n\tat org.eclipse.jetty.servlet.ServletHandler.doScope(ServletHandler.java:505)\n\tat org.eclipse.jetty.server.handler.ScopedHandler.handle(ScopedHandler.java:141)\n\tat org.eclipse.jetty.server.handler.HandlerWrapper.handle(HandlerWrapper.java:127)\n\tat org.eclipse.jetty.server.Server.handle(Server.java:516)\n\tat org.eclipse.jetty.server.HttpChannel.lambda$handle$1(HttpChannel.java:487)\n\tat org.eclipse.jetty.server.HttpChannel.dispatch(HttpChannel.java:732)\n\tat org.eclipse.jetty.server.HttpChannel.handle(HttpChannel.java:479)\n\tat org.eclipse.jetty.server.HttpConnection.onFillable(HttpConnection.java:277)\n\tat org.eclipse.jetty.io.AbstractConnection$ReadCallback.succeeded(AbstractConnection.java:311)\n\tat org.eclipse.jetty.io.FillInterest.fillable(FillInterest.java:105)\n\tat org.eclipse.jetty.io.ChannelEndPoint$1.run(ChannelEndPoint.java:104)\n\tat org.eclipse.jetty.util.thread.strategy.EatWhatYouKill.runTask(EatWhatYouKill.java:338)\n\tat org.eclipse.jetty.util.thread.strategy.EatWhatYouKill.doProduce(EatWhatYouKill.java:315)\n\tat org.eclipse.jetty.util.thread.strategy.EatWhatYouKill.tryProduce(EatWhatYouKill.java:173)\n\tat org.eclipse.jetty.util.thread.strategy.EatWhatYouKill.run(EatWhatYouKill.java:131)\n\tat org.eclipse.jetty.util.thread.ReservedThreadExecutor$ReservedThread.run(ReservedThreadExecutor.java:409)\n\tat com.databricks.rpc.InstrumentedQueuedThreadPool$$anon$1.$anonfun$run$2(InstrumentedQueuedThreadPool.scala:110)\n\tat scala.runtime.java8.JFunction0$mcV$sp.apply(JFunction0$mcV$sp.java:23)\n\tat com.databricks.logging.AttributionContextTracing.$anonfun$withAttributionContext$1(AttributionContextTracing.scala:48)\n\tat com.databricks.logging.AttributionContext$.$anonfun$withValue$1(AttributionContext.scala:273)\n\tat scala.util.DynamicVariable.withValue(DynamicVariable.scala:62)\n\tat com.databricks.logging.AttributionContext$.withValue(AttributionContext.scala:269)\n\tat com.databricks.logging.AttributionContextTracing.withAttributionContext(AttributionContextTracing.scala:46)\n\tat com.databricks.logging.AttributionContextTracing.withAttributionContext$(AttributionContextTracing.scala:43)\n\tat com.databricks.rpc.InstrumentedQueuedThreadPool.withAttributionContext(InstrumentedQueuedThreadPool.scala:45)\n\tat com.databricks.rpc.InstrumentedQueuedThreadPool$$anon$1.$anonfun$run$1(InstrumentedQueuedThreadPool.scala:110)\n\tat scala.runtime.java8.JFunction0$mcV$sp.apply(JFunction0$mcV$sp.java:23)\n\tat com.databricks.instrumentation.QueuedThreadPoolInstrumenter.trackActiveThreads(QueuedThreadPoolInstrumenter.scala:126)\n\tat com.databricks.instrumentation.QueuedThreadPoolInstrumenter.trackActiveThreads$(QueuedThreadPoolInstrumenter.scala:123)\n\tat com.databricks.rpc.InstrumentedQueuedThreadPool.trackActiveThreads(InstrumentedQueuedThreadPool.scala:45)\n\tat com.databricks.rpc.InstrumentedQueuedThreadPool$$anon$1.run(InstrumentedQueuedThreadPool.scala:92)\n\tat org.eclipse.jetty.util.thread.QueuedThreadPool.runJob(QueuedThreadPool.java:883)\n\tat org.eclipse.jetty.util.thread.QueuedThreadPool$Runner.run(QueuedThreadPool.java:1034)\n\tat java.lang.Thread.run(Thread.java:840)\n"
       },
       "removedWidgets": [],
       "sqlProps": null,
       "stackFrames": [
        "\u001B[0;31m---------------------------------------------------------------------------\u001B[0m",
        "\u001B[0;31mExecutionError\u001B[0m                            Traceback (most recent call last)",
        "File \u001B[0;32m<command-1131958806848271>, line 1\u001B[0m\n\u001B[0;32m----> 1\u001B[0m dbutils\u001B[38;5;241m.\u001B[39mfs\u001B[38;5;241m.\u001B[39mmount(\n\u001B[1;32m      2\u001B[0m  source \u001B[38;5;241m=\u001B[39m \u001B[38;5;124m\"\u001B[39m\u001B[38;5;124mwasbs://\u001B[39m\u001B[38;5;132;01m{0}\u001B[39;00m\u001B[38;5;124m@\u001B[39m\u001B[38;5;132;01m{1}\u001B[39;00m\u001B[38;5;124m.blob.core.windows.net\u001B[39m\u001B[38;5;124m\"\u001B[39m\u001B[38;5;241m.\u001B[39mformat(container_name, storage_account_name),\n\u001B[1;32m      3\u001B[0m  mount_point \u001B[38;5;241m=\u001B[39m \u001B[38;5;124m\"\u001B[39m\u001B[38;5;124m/mnt/nasa_challenge\u001B[39m\u001B[38;5;124m\"\u001B[39m,\n\u001B[1;32m      4\u001B[0m  extra_configs \u001B[38;5;241m=\u001B[39m {\u001B[38;5;124m\"\u001B[39m\u001B[38;5;124mfs.azure.account.key.\u001B[39m\u001B[38;5;132;01m{0}\u001B[39;00m\u001B[38;5;124m.blob.core.windows.net\u001B[39m\u001B[38;5;124m\"\u001B[39m\u001B[38;5;241m.\u001B[39mformat(storage_account_name): key_secret_name}\n\u001B[1;32m      5\u001B[0m )\n",
        "File \u001B[0;32m/databricks/python_shell/dbruntime/dbutils.py:158\u001B[0m, in \u001B[0;36mprettify_exception_message.<locals>.f_with_exception_handling\u001B[0;34m(*args, **kwargs)\u001B[0m\n\u001B[1;32m    156\u001B[0m exc\u001B[38;5;241m.\u001B[39m__context__ \u001B[38;5;241m=\u001B[39m \u001B[38;5;28;01mNone\u001B[39;00m\n\u001B[1;32m    157\u001B[0m exc\u001B[38;5;241m.\u001B[39m__cause__ \u001B[38;5;241m=\u001B[39m \u001B[38;5;28;01mNone\u001B[39;00m\n\u001B[0;32m--> 158\u001B[0m \u001B[38;5;28;01mraise\u001B[39;00m exc\n",
        "\u001B[0;31mExecutionError\u001B[0m: An error occurred while calling o422.mount.\n: java.rmi.RemoteException: java.lang.IllegalArgumentException: requirement failed: Directory already mounted: /mnt/nasa_challenge; nested exception is: \n\tjava.lang.IllegalArgumentException: requirement failed: Directory already mounted: /mnt/nasa_challenge\n\tat com.databricks.backend.daemon.data.client.DbfsClient.send0(DbfsClient.scala:148)\n\tat com.databricks.backend.daemon.data.client.DbfsClient.sendIdempotent(DbfsClient.scala:70)\n\tat com.databricks.backend.daemon.dbutils.DBUtilsCore.createOrUpdateMount(DBUtilsCore.scala:1142)\n\tat com.databricks.backend.daemon.dbutils.DBUtilsCore.$anonfun$mount$1(DBUtilsCore.scala:1168)\n\tat com.databricks.logging.UsageLogging.$anonfun$recordOperation$1(UsageLogging.scala:527)\n\tat com.databricks.logging.UsageLogging.executeThunkAndCaptureResultTags$1(UsageLogging.scala:631)\n\tat com.databricks.logging.UsageLogging.$anonfun$recordOperationWithResultTags$4(UsageLogging.scala:651)\n\tat com.databricks.logging.AttributionContextTracing.$anonfun$withAttributionContext$1(AttributionContextTracing.scala:48)\n\tat com.databricks.logging.AttributionContext$.$anonfun$withValue$1(AttributionContext.scala:276)\n\tat scala.util.DynamicVariable.withValue(DynamicVariable.scala:62)\n\tat com.databricks.logging.AttributionContext$.withValue(AttributionContext.scala:272)\n\tat com.databricks.logging.AttributionContextTracing.withAttributionContext(AttributionContextTracing.scala:46)\n\tat com.databricks.logging.AttributionContextTracing.withAttributionContext$(AttributionContextTracing.scala:43)\n\tat com.databricks.backend.daemon.dbutils.FSUtils.withAttributionContext(DBUtilsCore.scala:74)\n\tat com.databricks.logging.AttributionContextTracing.withAttributionTags(AttributionContextTracing.scala:95)\n\tat com.databricks.logging.AttributionContextTracing.withAttributionTags$(AttributionContextTracing.scala:76)\n\tat com.databricks.backend.daemon.dbutils.FSUtils.withAttributionTags(DBUtilsCore.scala:74)\n\tat com.databricks.logging.UsageLogging.recordOperationWithResultTags(UsageLogging.scala:626)\n\tat com.databricks.logging.UsageLogging.recordOperationWithResultTags$(UsageLogging.scala:536)\n\tat com.databricks.backend.daemon.dbutils.FSUtils.recordOperationWithResultTags(DBUtilsCore.scala:74)\n\tat com.databricks.logging.UsageLogging.recordOperation(UsageLogging.scala:528)\n\tat com.databricks.logging.UsageLogging.recordOperation$(UsageLogging.scala:496)\n\tat com.databricks.backend.daemon.dbutils.FSUtils.recordOperation(DBUtilsCore.scala:74)\n\tat com.databricks.backend.daemon.dbutils.FSUtils.recordDbutilsFsOp(DBUtilsCore.scala:138)\n\tat com.databricks.backend.daemon.dbutils.DBUtilsCore.mount(DBUtilsCore.scala:1162)\n\tat sun.reflect.NativeMethodAccessorImpl.invoke0(Native Method)\n\tat sun.reflect.NativeMethodAccessorImpl.invoke(NativeMethodAccessorImpl.java:62)\n\tat sun.reflect.DelegatingMethodAccessorImpl.invoke(DelegatingMethodAccessorImpl.java:43)\n\tat java.lang.reflect.Method.invoke(Method.java:498)\n\tat py4j.reflection.MethodInvoker.invoke(MethodInvoker.java:244)\n\tat py4j.reflection.ReflectionEngine.invoke(ReflectionEngine.java:397)\n\tat py4j.Gateway.invoke(Gateway.java:306)\n\tat py4j.commands.AbstractCommand.invokeMethod(AbstractCommand.java:132)\n\tat py4j.commands.CallCommand.execute(CallCommand.java:79)\n\tat py4j.ClientServerConnection.waitForCommands(ClientServerConnection.java:199)\n\tat py4j.ClientServerConnection.run(ClientServerConnection.java:119)\n\tat java.lang.Thread.run(Thread.java:750)\nCaused by: java.lang.IllegalArgumentException: requirement failed: Directory already mounted: /mnt/nasa_challenge\n\tat scala.Predef$.require(Predef.scala:281)\n\tat com.databricks.backend.daemon.data.server.DefaultMetadataManager.$anonfun$insertMount$1(MetadataManager.scala:800)\n\tat com.databricks.backend.daemon.data.server.DefaultMetadataManager.$anonfun$modifyAndVerify$2(MetadataManager.scala:1182)\n\tat scala.runtime.java8.JFunction0$mcV$sp.apply(JFunction0$mcV$sp.java:23)\n\tat com.databricks.backend.daemon.data.server.DefaultMetadataManager.withRetries(MetadataManager.scala:955)\n\tat com.databricks.backend.daemon.data.server.DefaultMetadataManager.modifyAndVerify(MetadataManager.scala:1171)\n\tat com.databricks.backend.daemon.data.server.DefaultMetadataManager.insertMount(MetadataManager.scala:808)\n\tat com.databricks.backend.daemon.data.server.handler.MountHandler.receive(MountHandler.scala:128)\n\tat com.databricks.backend.daemon.data.server.session.SessionContext.$anonfun$queryHandlers$1(SessionContext.scala:54)\n\tat com.databricks.backend.daemon.data.server.session.SessionContext.$anonfun$queryHandlers$1$adapted(SessionContext.scala:53)\n\tat scala.collection.immutable.List.foreach(List.scala:431)\n\tat com.databricks.backend.daemon.data.server.session.SessionContext.queryHandlers(SessionContext.scala:53)\n\tat com.databricks.backend.daemon.data.server.DbfsServerBackend$$anonfun$receive$4.$anonfun$applyOrElse$10(DbfsServerBackend.scala:461)\n\tat com.databricks.logging.AttributionContextTracing.$anonfun$withAttributionContext$1(AttributionContextTracing.scala:48)\n\tat com.databricks.logging.AttributionContext$.$anonfun$withValue$1(AttributionContext.scala:273)\n\tat scala.util.DynamicVariable.withValue(DynamicVariable.scala:62)\n\tat com.databricks.logging.AttributionContext$.withValue(AttributionContext.scala:269)\n\tat com.databricks.logging.AttributionContextTracing.withAttributionContext(AttributionContextTracing.scala:46)\n\tat com.databricks.logging.AttributionContextTracing.withAttributionContext$(AttributionContextTracing.scala:43)\n\tat com.databricks.rpc.ServerBackend.withAttributionContext(ServerBackend.scala:23)\n\tat com.databricks.logging.AttributionContextTracing.withAttributionTags(AttributionContextTracing.scala:95)\n\tat com.databricks.logging.AttributionContextTracing.withAttributionTags$(AttributionContextTracing.scala:76)\n\tat com.databricks.rpc.ServerBackend.withAttributionTags(ServerBackend.scala:23)\n\tat com.databricks.backend.daemon.data.server.DbfsServerBackend$$anonfun$receive$4.applyOrElse(DbfsServerBackend.scala:461)\n\tat com.databricks.backend.daemon.data.server.DbfsServerBackend$$anonfun$receive$4.applyOrElse(DbfsServerBackend.scala:354)\n\tat com.databricks.rpc.ServerBackend.$anonfun$internalReceive0$2(ServerBackend.scala:175)\n\tat com.databricks.rpc.ServerBackend$$anonfun$commonReceive$1.applyOrElse(ServerBackend.scala:201)\n\tat com.databricks.rpc.ServerBackend$$anonfun$commonReceive$1.applyOrElse(ServerBackend.scala:201)\n\tat com.databricks.rpc.ServerBackend.internalReceive0(ServerBackend.scala:172)\n\tat com.databricks.rpc.ServerBackend.$anonfun$internalReceive$1(ServerBackend.scala:148)\n\tat com.databricks.logging.UsageLogging.$anonfun$recordOperation$1(UsageLogging.scala:507)\n\tat com.databricks.logging.UsageLogging.executeThunkAndCaptureResultTags$1(UsageLogging.scala:611)\n\tat com.databricks.logging.UsageLogging.$anonfun$recordOperationWithResultTags$4(UsageLogging.scala:631)\n\tat com.databricks.logging.AttributionContextTracing.$anonfun$withAttributionContext$1(AttributionContextTracing.scala:48)\n\tat com.databricks.logging.AttributionContext$.$anonfun$withValue$1(AttributionContext.scala:273)\n\tat scala.util.DynamicVariable.withValue(DynamicVariable.scala:62)\n\tat com.databricks.logging.AttributionContext$.withValue(AttributionContext.scala:269)\n\tat com.databricks.logging.AttributionContextTracing.withAttributionContext(AttributionContextTracing.scala:46)\n\tat com.databricks.logging.AttributionContextTracing.withAttributionContext$(AttributionContextTracing.scala:43)\n\tat com.databricks.rpc.ServerBackend.withAttributionContext(ServerBackend.scala:23)\n\tat com.databricks.logging.AttributionContextTracing.withAttributionTags(AttributionContextTracing.scala:95)\n\tat com.databricks.logging.AttributionContextTracing.withAttributionTags$(AttributionContextTracing.scala:76)\n\tat com.databricks.rpc.ServerBackend.withAttributionTags(ServerBackend.scala:23)\n\tat com.databricks.logging.UsageLogging.recordOperationWithResultTags(UsageLogging.scala:606)\n\tat com.databricks.logging.UsageLogging.recordOperationWithResultTags$(UsageLogging.scala:516)\n\tat com.databricks.rpc.ServerBackend.recordOperationWithResultTags(ServerBackend.scala:23)\n\tat com.databricks.logging.UsageLogging.recordOperation(UsageLogging.scala:508)\n\tat com.databricks.logging.UsageLogging.recordOperation$(UsageLogging.scala:476)\n\tat com.databricks.rpc.ServerBackend.recordOperation(ServerBackend.scala:23)\n\tat com.databricks.rpc.ServerBackend.internalReceive(ServerBackend.scala:147)\n\tat com.databricks.rpc.JettyServer$RequestManager.handleRPC(JettyServer.scala:1027)\n\tat com.databricks.rpc.JettyServer$RequestManager.handleRequestAndRespond(JettyServer.scala:947)\n\tat com.databricks.rpc.JettyServer$RequestManager.$anonfun$handleHttp$6(JettyServer.scala:547)\n\tat com.databricks.rpc.JettyServer$RequestManager.$anonfun$handleHttp$6$adapted(JettyServer.scala:516)\n\tat com.databricks.logging.activity.ActivityContextFactory$.$anonfun$withActivityInternal$8(ActivityContextFactory.scala:678)\n\tat com.databricks.logging.AttributionContextTracing.$anonfun$withAttributionContext$1(AttributionContextTracing.scala:48)\n\tat com.databricks.logging.AttributionContext$.$anonfun$withValue$1(AttributionContext.scala:273)\n\tat scala.util.DynamicVariable.withValue(DynamicVariable.scala:62)\n\tat com.databricks.logging.AttributionContext$.withValue(AttributionContext.scala:269)\n\tat com.databricks.logging.AttributionContextTracing.withAttributionContext(AttributionContextTracing.scala:46)\n\tat com.databricks.logging.AttributionContextTracing.withAttributionContext$(AttributionContextTracing.scala:43)\n\tat com.databricks.logging.activity.ActivityContextFactory$.withAttributionContext(ActivityContextFactory.scala:48)\n\tat com.databricks.logging.activity.ActivityContextFactory$.$anonfun$withActivityInternal$2(ActivityContextFactory.scala:678)\n\tat com.databricks.context.integrity.IntegrityCheckContext$ThreadLocalStorage$.withValue(IntegrityCheckContext.scala:73)\n\tat com.databricks.logging.activity.ActivityContextFactory$.withActivityInternal(ActivityContextFactory.scala:649)\n\tat com.databricks.logging.activity.ActivityContextFactory$.withActivityInternal(ActivityContextFactory.scala:631)\n\tat com.databricks.logging.activity.ActivityContextFactory$.withServiceRequestActivity(ActivityContextFactory.scala:250)\n\tat com.databricks.rpc.JettyServer$RequestManager.handleHttp(JettyServer.scala:516)\n\tat com.databricks.rpc.JettyServer$RequestManager.doPost(JettyServer.scala:406)\n\tat javax.servlet.http.HttpServlet.service(HttpServlet.java:665)\n\tat com.databricks.rpc.HttpServletWithPatch.service(HttpServletWithPatch.scala:33)\n\tat javax.servlet.http.HttpServlet.service(HttpServlet.java:750)\n\tat org.eclipse.jetty.servlet.ServletHolder.handle(ServletHolder.java:799)\n\tat org.eclipse.jetty.servlet.ServletHandler.doHandle(ServletHandler.java:554)\n\tat org.eclipse.jetty.server.handler.ScopedHandler.nextScope(ScopedHandler.java:190)\n\tat org.eclipse.jetty.servlet.ServletHandler.doScope(ServletHandler.java:505)\n\tat org.eclipse.jetty.server.handler.ScopedHandler.handle(ScopedHandler.java:141)\n\tat org.eclipse.jetty.server.handler.HandlerWrapper.handle(HandlerWrapper.java:127)\n\tat org.eclipse.jetty.server.Server.handle(Server.java:516)\n\tat org.eclipse.jetty.server.HttpChannel.lambda$handle$1(HttpChannel.java:487)\n\tat org.eclipse.jetty.server.HttpChannel.dispatch(HttpChannel.java:732)\n\tat org.eclipse.jetty.server.HttpChannel.handle(HttpChannel.java:479)\n\tat org.eclipse.jetty.server.HttpConnection.onFillable(HttpConnection.java:277)\n\tat org.eclipse.jetty.io.AbstractConnection$ReadCallback.succeeded(AbstractConnection.java:311)\n\tat org.eclipse.jetty.io.FillInterest.fillable(FillInterest.java:105)\n\tat org.eclipse.jetty.io.ChannelEndPoint$1.run(ChannelEndPoint.java:104)\n\tat org.eclipse.jetty.util.thread.strategy.EatWhatYouKill.runTask(EatWhatYouKill.java:338)\n\tat org.eclipse.jetty.util.thread.strategy.EatWhatYouKill.doProduce(EatWhatYouKill.java:315)\n\tat org.eclipse.jetty.util.thread.strategy.EatWhatYouKill.tryProduce(EatWhatYouKill.java:173)\n\tat org.eclipse.jetty.util.thread.strategy.EatWhatYouKill.run(EatWhatYouKill.java:131)\n\tat org.eclipse.jetty.util.thread.ReservedThreadExecutor$ReservedThread.run(ReservedThreadExecutor.java:409)\n\tat com.databricks.rpc.InstrumentedQueuedThreadPool$$anon$1.$anonfun$run$2(InstrumentedQueuedThreadPool.scala:110)\n\tat scala.runtime.java8.JFunction0$mcV$sp.apply(JFunction0$mcV$sp.java:23)\n\tat com.databricks.logging.AttributionContextTracing.$anonfun$withAttributionContext$1(AttributionContextTracing.scala:48)\n\tat com.databricks.logging.AttributionContext$.$anonfun$withValue$1(AttributionContext.scala:273)\n\tat scala.util.DynamicVariable.withValue(DynamicVariable.scala:62)\n\tat com.databricks.logging.AttributionContext$.withValue(AttributionContext.scala:269)\n\tat com.databricks.logging.AttributionContextTracing.withAttributionContext(AttributionContextTracing.scala:46)\n\tat com.databricks.logging.AttributionContextTracing.withAttributionContext$(AttributionContextTracing.scala:43)\n\tat com.databricks.rpc.InstrumentedQueuedThreadPool.withAttributionContext(InstrumentedQueuedThreadPool.scala:45)\n\tat com.databricks.rpc.InstrumentedQueuedThreadPool$$anon$1.$anonfun$run$1(InstrumentedQueuedThreadPool.scala:110)\n\tat scala.runtime.java8.JFunction0$mcV$sp.apply(JFunction0$mcV$sp.java:23)\n\tat com.databricks.instrumentation.QueuedThreadPoolInstrumenter.trackActiveThreads(QueuedThreadPoolInstrumenter.scala:126)\n\tat com.databricks.instrumentation.QueuedThreadPoolInstrumenter.trackActiveThreads$(QueuedThreadPoolInstrumenter.scala:123)\n\tat com.databricks.rpc.InstrumentedQueuedThreadPool.trackActiveThreads(InstrumentedQueuedThreadPool.scala:45)\n\tat com.databricks.rpc.InstrumentedQueuedThreadPool$$anon$1.run(InstrumentedQueuedThreadPool.scala:92)\n\tat org.eclipse.jetty.util.thread.QueuedThreadPool.runJob(QueuedThreadPool.java:883)\n\tat org.eclipse.jetty.util.thread.QueuedThreadPool$Runner.run(QueuedThreadPool.java:1034)\n\tat java.lang.Thread.run(Thread.java:840)\n"
       ],
       "type": "baseError"
      }
     },
     "output_type": "display_data"
    }
   ],
   "source": [
    "dbutils.fs.mount(\n",
    " source = \"wasbs://{0}@{1}.blob.core.windows.net\".format(container_name, storage_account_name),\n",
    " mount_point = \"/mnt/nasa_challenge\",\n",
    " extra_configs = {\"fs.azure.account.key.{0}.blob.core.windows.net\".format(storage_account_name): key_secret_name}\n",
    ")"
   ]
  },
  {
   "cell_type": "markdown",
   "metadata": {
    "application/vnd.databricks.v1+cell": {
     "cellMetadata": {},
     "inputWidgets": {},
     "nuid": "368e0a70-95e8-4b84-9162-fb13a863719f",
     "showTitle": false,
     "tableResultSettingsMap": {},
     "title": ""
    }
   },
   "source": [
    "Below are just some tests to see what I have in my directories."
   ]
  },
  {
   "cell_type": "code",
   "execution_count": 0,
   "metadata": {
    "application/vnd.databricks.v1+cell": {
     "cellMetadata": {
      "byteLimit": 2048000,
      "rowLimit": 10000
     },
     "inputWidgets": {},
     "nuid": "54e9933c-cec3-4c4e-9518-60c8ed5ed6b9",
     "showTitle": false,
     "tableResultSettingsMap": {},
     "title": ""
    }
   },
   "outputs": [
    {
     "output_type": "execute_result",
     "data": {
      "text/plain": [
       "[FileInfo(path='dbfs:/mnt/nasa_challenge/0-original-zip-files/', name='0-original-zip-files/', size=0, modificationTime=0),\n",
       " FileInfo(path='dbfs:/mnt/nasa_challenge/1-raw-unzipped-files/', name='1-raw-unzipped-files/', size=0, modificationTime=0)]"
      ]
     },
     "execution_count": 8,
     "metadata": {},
     "output_type": "execute_result"
    }
   ],
   "source": [
    "dbutils.fs.ls(\"dbfs:/mnt/nasa_challenge\")"
   ]
  },
  {
   "cell_type": "code",
   "execution_count": 0,
   "metadata": {
    "application/vnd.databricks.v1+cell": {
     "cellMetadata": {
      "byteLimit": 2048000,
      "rowLimit": 10000
     },
     "inputWidgets": {},
     "nuid": "f5fa53c2-abdc-4e9a-a1b6-b743ce040aaa",
     "showTitle": false,
     "tableResultSettingsMap": {},
     "title": ""
    }
   },
   "outputs": [
    {
     "output_type": "execute_result",
     "data": {
      "text/plain": [
       "[FileInfo(path='dbfs:/mnt/nasa_challenge/1-raw-unzipped-files/CWAM_test/', name='CWAM_test/', size=0, modificationTime=0),\n",
       " FileInfo(path='dbfs:/mnt/nasa_challenge/1-raw-unzipped-files/CWAM_train_part_10_2230616_230709/', name='CWAM_train_part_10_2230616_230709/', size=0, modificationTime=0),\n",
       " FileInfo(path='dbfs:/mnt/nasa_challenge/1-raw-unzipped-files/CWAM_train_part_11_2230718_230810/', name='CWAM_train_part_11_2230718_230810/', size=0, modificationTime=0),\n",
       " FileInfo(path='dbfs:/mnt/nasa_challenge/1-raw-unzipped-files/CWAM_train_part_12_2230819_230831/', name='CWAM_train_part_12_2230819_230831/', size=0, modificationTime=0),\n",
       " FileInfo(path='dbfs:/mnt/nasa_challenge/1-raw-unzipped-files/CWAM_train_part_1_220901_220924/', name='CWAM_train_part_1_220901_220924/', size=0, modificationTime=0),\n",
       " FileInfo(path='dbfs:/mnt/nasa_challenge/1-raw-unzipped-files/CWAM_train_part_2_2221003_221026/', name='CWAM_train_part_2_2221003_221026/', size=0, modificationTime=0),\n",
       " FileInfo(path='dbfs:/mnt/nasa_challenge/1-raw-unzipped-files/CWAM_train_part_3_2221104_221127/', name='CWAM_train_part_3_2221104_221127/', size=0, modificationTime=0),\n",
       " FileInfo(path='dbfs:/mnt/nasa_challenge/1-raw-unzipped-files/CWAM_train_part_4_2221206_221229/', name='CWAM_train_part_4_2221206_221229/', size=0, modificationTime=0),\n",
       " FileInfo(path='dbfs:/mnt/nasa_challenge/1-raw-unzipped-files/CWAM_train_part_5_2230107_230130/', name='CWAM_train_part_5_2230107_230130/', size=0, modificationTime=0),\n",
       " FileInfo(path='dbfs:/mnt/nasa_challenge/1-raw-unzipped-files/CWAM_train_part_6_2230208_230303/', name='CWAM_train_part_6_2230208_230303/', size=0, modificationTime=0),\n",
       " FileInfo(path='dbfs:/mnt/nasa_challenge/1-raw-unzipped-files/CWAM_train_part_7_2230312_230404/', name='CWAM_train_part_7_2230312_230404/', size=0, modificationTime=0),\n",
       " FileInfo(path='dbfs:/mnt/nasa_challenge/1-raw-unzipped-files/CWAM_train_part_8_2230413_230506/', name='CWAM_train_part_8_2230413_230506/', size=0, modificationTime=0),\n",
       " FileInfo(path='dbfs:/mnt/nasa_challenge/1-raw-unzipped-files/CWAM_train_part_9_2230515_230607/', name='CWAM_train_part_9_2230515_230607/', size=0, modificationTime=0),\n",
       " FileInfo(path='dbfs:/mnt/nasa_challenge/1-raw-unzipped-files/FUSER_test/', name='FUSER_test/', size=0, modificationTime=0),\n",
       " FileInfo(path='dbfs:/mnt/nasa_challenge/1-raw-unzipped-files/FUSER_train_KATL/', name='FUSER_train_KATL/', size=0, modificationTime=0),\n",
       " FileInfo(path='dbfs:/mnt/nasa_challenge/1-raw-unzipped-files/FUSER_train_KCLT/', name='FUSER_train_KCLT/', size=0, modificationTime=0),\n",
       " FileInfo(path='dbfs:/mnt/nasa_challenge/1-raw-unzipped-files/FUSER_train_KDEN/', name='FUSER_train_KDEN/', size=0, modificationTime=0),\n",
       " FileInfo(path='dbfs:/mnt/nasa_challenge/1-raw-unzipped-files/FUSER_train_KDFW/', name='FUSER_train_KDFW/', size=0, modificationTime=0),\n",
       " FileInfo(path='dbfs:/mnt/nasa_challenge/1-raw-unzipped-files/FUSER_train_KJFK/', name='FUSER_train_KJFK/', size=0, modificationTime=0),\n",
       " FileInfo(path='dbfs:/mnt/nasa_challenge/1-raw-unzipped-files/FUSER_train_KMEM/', name='FUSER_train_KMEM/', size=0, modificationTime=0),\n",
       " FileInfo(path='dbfs:/mnt/nasa_challenge/1-raw-unzipped-files/FUSER_train_KORD/', name='FUSER_train_KORD/', size=0, modificationTime=0),\n",
       " FileInfo(path='dbfs:/mnt/nasa_challenge/1-raw-unzipped-files/FUSER_train_KPHX/', name='FUSER_train_KPHX/', size=0, modificationTime=0),\n",
       " FileInfo(path='dbfs:/mnt/nasa_challenge/1-raw-unzipped-files/FUSER_train_KSEA/', name='FUSER_train_KSEA/', size=0, modificationTime=0),\n",
       " FileInfo(path='dbfs:/mnt/nasa_challenge/1-raw-unzipped-files/METAR_test/', name='METAR_test/', size=0, modificationTime=0),\n",
       " FileInfo(path='dbfs:/mnt/nasa_challenge/1-raw-unzipped-files/METAR_train/', name='METAR_train/', size=0, modificationTime=0),\n",
       " FileInfo(path='dbfs:/mnt/nasa_challenge/1-raw-unzipped-files/TAF_test/', name='TAF_test/', size=0, modificationTime=0),\n",
       " FileInfo(path='dbfs:/mnt/nasa_challenge/1-raw-unzipped-files/TAF_train/', name='TAF_train/', size=0, modificationTime=0),\n",
       " FileInfo(path='dbfs:/mnt/nasa_challenge/1-raw-unzipped-files/submission_format.csv/', name='submission_format.csv/', size=0, modificationTime=0)]"
      ]
     },
     "execution_count": 9,
     "metadata": {},
     "output_type": "execute_result"
    }
   ],
   "source": [
    "dbutils.fs.ls(\"dbfs:/mnt/nasa_challenge/1-raw-unzipped-files/\")"
   ]
  },
  {
   "cell_type": "code",
   "execution_count": 0,
   "metadata": {
    "application/vnd.databricks.v1+cell": {
     "cellMetadata": {
      "byteLimit": 2048000,
      "rowLimit": 10000
     },
     "inputWidgets": {},
     "nuid": "d10968cb-ebb4-46e0-9adf-b1b838e6f0ec",
     "showTitle": false,
     "tableResultSettingsMap": {},
     "title": ""
    }
   },
   "outputs": [
    {
     "output_type": "execute_result",
     "data": {
      "text/plain": [
       "[FileInfo(path='dbfs:/mnt/nasa_challenge/1-raw-unzipped-files/CWAM_train_part_1_220901_220924/220901_220924/09/01', name='01', size=0, modificationTime=1730035491000),\n",
       " FileInfo(path='dbfs:/mnt/nasa_challenge/1-raw-unzipped-files/CWAM_train_part_1_220901_220924/220901_220924/09/01/2022_09_01_00_00_GMT.Forecast.h5.CWAM.h5.bz2', name='2022_09_01_00_00_GMT.Forecast.h5.CWAM.h5.bz2', size=8490160, modificationTime=1730035488000),\n",
       " FileInfo(path='dbfs:/mnt/nasa_challenge/1-raw-unzipped-files/CWAM_train_part_1_220901_220924/220901_220924/09/01/2022_09_01_00_15_GMT.Forecast.h5.CWAM.h5.bz2', name='2022_09_01_00_15_GMT.Forecast.h5.CWAM.h5.bz2', size=7697723, modificationTime=1730035477000),\n",
       " FileInfo(path='dbfs:/mnt/nasa_challenge/1-raw-unzipped-files/CWAM_train_part_1_220901_220924/220901_220924/09/01/2022_09_01_00_30_GMT.Forecast.h5.CWAM.h5.bz2', name='2022_09_01_00_30_GMT.Forecast.h5.CWAM.h5.bz2', size=6911056, modificationTime=1730035489000),\n",
       " FileInfo(path='dbfs:/mnt/nasa_challenge/1-raw-unzipped-files/CWAM_train_part_1_220901_220924/220901_220924/09/01/2022_09_01_00_45_GMT.Forecast.h5.CWAM.h5.bz2', name='2022_09_01_00_45_GMT.Forecast.h5.CWAM.h5.bz2', size=5824444, modificationTime=1730035451000),\n",
       " FileInfo(path='dbfs:/mnt/nasa_challenge/1-raw-unzipped-files/CWAM_train_part_1_220901_220924/220901_220924/09/01/2022_09_01_01_00_GMT.Forecast.h5.CWAM.h5.bz2', name='2022_09_01_01_00_GMT.Forecast.h5.CWAM.h5.bz2', size=5671932, modificationTime=1730035488000),\n",
       " FileInfo(path='dbfs:/mnt/nasa_challenge/1-raw-unzipped-files/CWAM_train_part_1_220901_220924/220901_220924/09/01/2022_09_01_01_15_GMT.Forecast.h5.CWAM.h5.bz2', name='2022_09_01_01_15_GMT.Forecast.h5.CWAM.h5.bz2', size=5346426, modificationTime=1730035485000),\n",
       " FileInfo(path='dbfs:/mnt/nasa_challenge/1-raw-unzipped-files/CWAM_train_part_1_220901_220924/220901_220924/09/01/2022_09_01_01_30_GMT.Forecast.h5.CWAM.h5.bz2', name='2022_09_01_01_30_GMT.Forecast.h5.CWAM.h5.bz2', size=5117960, modificationTime=1730035487000),\n",
       " FileInfo(path='dbfs:/mnt/nasa_challenge/1-raw-unzipped-files/CWAM_train_part_1_220901_220924/220901_220924/09/01/2022_09_01_01_45_GMT.Forecast.h5.CWAM.h5.bz2', name='2022_09_01_01_45_GMT.Forecast.h5.CWAM.h5.bz2', size=4704654, modificationTime=1730035490000),\n",
       " FileInfo(path='dbfs:/mnt/nasa_challenge/1-raw-unzipped-files/CWAM_train_part_1_220901_220924/220901_220924/09/01/2022_09_01_02_00_GMT.Forecast.h5.CWAM.h5.bz2', name='2022_09_01_02_00_GMT.Forecast.h5.CWAM.h5.bz2', size=4071799, modificationTime=1730035449000),\n",
       " FileInfo(path='dbfs:/mnt/nasa_challenge/1-raw-unzipped-files/CWAM_train_part_1_220901_220924/220901_220924/09/01/2022_09_01_02_15_GMT.Forecast.h5.CWAM.h5.bz2', name='2022_09_01_02_15_GMT.Forecast.h5.CWAM.h5.bz2', size=3423848, modificationTime=1730035451000),\n",
       " FileInfo(path='dbfs:/mnt/nasa_challenge/1-raw-unzipped-files/CWAM_train_part_1_220901_220924/220901_220924/09/01/2022_09_01_02_30_GMT.Forecast.h5.CWAM.h5.bz2', name='2022_09_01_02_30_GMT.Forecast.h5.CWAM.h5.bz2', size=3039526, modificationTime=1730035482000),\n",
       " FileInfo(path='dbfs:/mnt/nasa_challenge/1-raw-unzipped-files/CWAM_train_part_1_220901_220924/220901_220924/09/01/2022_09_01_02_45_GMT.Forecast.h5.CWAM.h5.bz2', name='2022_09_01_02_45_GMT.Forecast.h5.CWAM.h5.bz2', size=2726704, modificationTime=1730035482000),\n",
       " FileInfo(path='dbfs:/mnt/nasa_challenge/1-raw-unzipped-files/CWAM_train_part_1_220901_220924/220901_220924/09/01/2022_09_01_03_00_GMT.Forecast.h5.CWAM.h5.bz2', name='2022_09_01_03_00_GMT.Forecast.h5.CWAM.h5.bz2', size=2415329, modificationTime=1730035485000),\n",
       " FileInfo(path='dbfs:/mnt/nasa_challenge/1-raw-unzipped-files/CWAM_train_part_1_220901_220924/220901_220924/09/01/2022_09_01_03_15_GMT.Forecast.h5.CWAM.h5.bz2', name='2022_09_01_03_15_GMT.Forecast.h5.CWAM.h5.bz2', size=2004580, modificationTime=1730035481000),\n",
       " FileInfo(path='dbfs:/mnt/nasa_challenge/1-raw-unzipped-files/CWAM_train_part_1_220901_220924/220901_220924/09/01/2022_09_01_03_30_GMT.Forecast.h5.CWAM.h5.bz2', name='2022_09_01_03_30_GMT.Forecast.h5.CWAM.h5.bz2', size=1910300, modificationTime=1730035488000),\n",
       " FileInfo(path='dbfs:/mnt/nasa_challenge/1-raw-unzipped-files/CWAM_train_part_1_220901_220924/220901_220924/09/01/2022_09_01_03_45_GMT.Forecast.h5.CWAM.h5.bz2', name='2022_09_01_03_45_GMT.Forecast.h5.CWAM.h5.bz2', size=1786612, modificationTime=1730035489000),\n",
       " FileInfo(path='dbfs:/mnt/nasa_challenge/1-raw-unzipped-files/CWAM_train_part_1_220901_220924/220901_220924/09/01/2022_09_01_04_00_GMT.Forecast.h5.CWAM.h5.bz2', name='2022_09_01_04_00_GMT.Forecast.h5.CWAM.h5.bz2', size=1877540, modificationTime=1730035480000),\n",
       " FileInfo(path='dbfs:/mnt/nasa_challenge/1-raw-unzipped-files/CWAM_train_part_1_220901_220924/220901_220924/09/01/2022_09_01_04_15_GMT.Forecast.h5.CWAM.h5.bz2', name='2022_09_01_04_15_GMT.Forecast.h5.CWAM.h5.bz2', size=1784168, modificationTime=1730035464000),\n",
       " FileInfo(path='dbfs:/mnt/nasa_challenge/1-raw-unzipped-files/CWAM_train_part_1_220901_220924/220901_220924/09/01/2022_09_01_04_30_GMT.Forecast.h5.CWAM.h5.bz2', name='2022_09_01_04_30_GMT.Forecast.h5.CWAM.h5.bz2', size=1795742, modificationTime=1730035483000),\n",
       " FileInfo(path='dbfs:/mnt/nasa_challenge/1-raw-unzipped-files/CWAM_train_part_1_220901_220924/220901_220924/09/01/2022_09_01_04_45_GMT.Forecast.h5.CWAM.h5.bz2', name='2022_09_01_04_45_GMT.Forecast.h5.CWAM.h5.bz2', size=1429553, modificationTime=1730035490000),\n",
       " FileInfo(path='dbfs:/mnt/nasa_challenge/1-raw-unzipped-files/CWAM_train_part_1_220901_220924/220901_220924/09/01/2022_09_01_05_00_GMT.Forecast.h5.CWAM.h5.bz2', name='2022_09_01_05_00_GMT.Forecast.h5.CWAM.h5.bz2', size=1334046, modificationTime=1730035488000),\n",
       " FileInfo(path='dbfs:/mnt/nasa_challenge/1-raw-unzipped-files/CWAM_train_part_1_220901_220924/220901_220924/09/01/2022_09_01_05_15_GMT.Forecast.h5.CWAM.h5.bz2', name='2022_09_01_05_15_GMT.Forecast.h5.CWAM.h5.bz2', size=1222469, modificationTime=1730035464000),\n",
       " FileInfo(path='dbfs:/mnt/nasa_challenge/1-raw-unzipped-files/CWAM_train_part_1_220901_220924/220901_220924/09/01/2022_09_01_05_30_GMT.Forecast.h5.CWAM.h5.bz2', name='2022_09_01_05_30_GMT.Forecast.h5.CWAM.h5.bz2', size=1105920, modificationTime=1730035481000),\n",
       " FileInfo(path='dbfs:/mnt/nasa_challenge/1-raw-unzipped-files/CWAM_train_part_1_220901_220924/220901_220924/09/01/2022_09_01_05_45_GMT.Forecast.h5.CWAM.h5.bz2', name='2022_09_01_05_45_GMT.Forecast.h5.CWAM.h5.bz2', size=1062808, modificationTime=1730035482000),\n",
       " FileInfo(path='dbfs:/mnt/nasa_challenge/1-raw-unzipped-files/CWAM_train_part_1_220901_220924/220901_220924/09/01/2022_09_01_06_00_GMT.Forecast.h5.CWAM.h5.bz2', name='2022_09_01_06_00_GMT.Forecast.h5.CWAM.h5.bz2', size=1024960, modificationTime=1730035487000),\n",
       " FileInfo(path='dbfs:/mnt/nasa_challenge/1-raw-unzipped-files/CWAM_train_part_1_220901_220924/220901_220924/09/01/2022_09_01_06_15_GMT.Forecast.h5.CWAM.h5.bz2', name='2022_09_01_06_15_GMT.Forecast.h5.CWAM.h5.bz2', size=835244, modificationTime=1730035488000),\n",
       " FileInfo(path='dbfs:/mnt/nasa_challenge/1-raw-unzipped-files/CWAM_train_part_1_220901_220924/220901_220924/09/01/2022_09_01_06_30_GMT.Forecast.h5.CWAM.h5.bz2', name='2022_09_01_06_30_GMT.Forecast.h5.CWAM.h5.bz2', size=756479, modificationTime=1730035487000),\n",
       " FileInfo(path='dbfs:/mnt/nasa_challenge/1-raw-unzipped-files/CWAM_train_part_1_220901_220924/220901_220924/09/01/2022_09_01_06_45_GMT.Forecast.h5.CWAM.h5.bz2', name='2022_09_01_06_45_GMT.Forecast.h5.CWAM.h5.bz2', size=816145, modificationTime=1730035490000),\n",
       " FileInfo(path='dbfs:/mnt/nasa_challenge/1-raw-unzipped-files/CWAM_train_part_1_220901_220924/220901_220924/09/01/2022_09_01_07_00_GMT.Forecast.h5.CWAM.h5.bz2', name='2022_09_01_07_00_GMT.Forecast.h5.CWAM.h5.bz2', size=751558, modificationTime=1730035476000),\n",
       " FileInfo(path='dbfs:/mnt/nasa_challenge/1-raw-unzipped-files/CWAM_train_part_1_220901_220924/220901_220924/09/01/2022_09_01_07_15_GMT.Forecast.h5.CWAM.h5.bz2', name='2022_09_01_07_15_GMT.Forecast.h5.CWAM.h5.bz2', size=644879, modificationTime=1730035474000),\n",
       " FileInfo(path='dbfs:/mnt/nasa_challenge/1-raw-unzipped-files/CWAM_train_part_1_220901_220924/220901_220924/09/01/2022_09_01_07_30_GMT.Forecast.h5.CWAM.h5.bz2', name='2022_09_01_07_30_GMT.Forecast.h5.CWAM.h5.bz2', size=602690, modificationTime=1730035487000),\n",
       " FileInfo(path='dbfs:/mnt/nasa_challenge/1-raw-unzipped-files/CWAM_train_part_1_220901_220924/220901_220924/09/01/2022_09_01_07_45_GMT.Forecast.h5.CWAM.h5.bz2', name='2022_09_01_07_45_GMT.Forecast.h5.CWAM.h5.bz2', size=555105, modificationTime=1730035472000),\n",
       " FileInfo(path='dbfs:/mnt/nasa_challenge/1-raw-unzipped-files/CWAM_train_part_1_220901_220924/220901_220924/09/01/2022_09_01_08_00_GMT.Forecast.h5.CWAM.h5.bz2', name='2022_09_01_08_00_GMT.Forecast.h5.CWAM.h5.bz2', size=611491, modificationTime=1730035489000),\n",
       " FileInfo(path='dbfs:/mnt/nasa_challenge/1-raw-unzipped-files/CWAM_train_part_1_220901_220924/220901_220924/09/01/2022_09_01_08_15_GMT.Forecast.h5.CWAM.h5.bz2', name='2022_09_01_08_15_GMT.Forecast.h5.CWAM.h5.bz2', size=606560, modificationTime=1730035482000),\n",
       " FileInfo(path='dbfs:/mnt/nasa_challenge/1-raw-unzipped-files/CWAM_train_part_1_220901_220924/220901_220924/09/01/2022_09_01_08_30_GMT.Forecast.h5.CWAM.h5.bz2', name='2022_09_01_08_30_GMT.Forecast.h5.CWAM.h5.bz2', size=568812, modificationTime=1730035484000),\n",
       " FileInfo(path='dbfs:/mnt/nasa_challenge/1-raw-unzipped-files/CWAM_train_part_1_220901_220924/220901_220924/09/01/2022_09_01_08_45_GMT.Forecast.h5.CWAM.h5.bz2', name='2022_09_01_08_45_GMT.Forecast.h5.CWAM.h5.bz2', size=599208, modificationTime=1730035490000),\n",
       " FileInfo(path='dbfs:/mnt/nasa_challenge/1-raw-unzipped-files/CWAM_train_part_1_220901_220924/220901_220924/09/01/2022_09_01_09_00_GMT.Forecast.h5.CWAM.h5.bz2', name='2022_09_01_09_00_GMT.Forecast.h5.CWAM.h5.bz2', size=581845, modificationTime=1730035480000),\n",
       " FileInfo(path='dbfs:/mnt/nasa_challenge/1-raw-unzipped-files/CWAM_train_part_1_220901_220924/220901_220924/09/01/2022_09_01_09_15_GMT.Forecast.h5.CWAM.h5.bz2', name='2022_09_01_09_15_GMT.Forecast.h5.CWAM.h5.bz2', size=639158, modificationTime=1730035487000),\n",
       " FileInfo(path='dbfs:/mnt/nasa_challenge/1-raw-unzipped-files/CWAM_train_part_1_220901_220924/220901_220924/09/01/2022_09_01_09_30_GMT.Forecast.h5.CWAM.h5.bz2', name='2022_09_01_09_30_GMT.Forecast.h5.CWAM.h5.bz2', size=719078, modificationTime=1730035490000),\n",
       " FileInfo(path='dbfs:/mnt/nasa_challenge/1-raw-unzipped-files/CWAM_train_part_1_220901_220924/220901_220924/09/01/2022_09_01_09_45_GMT.Forecast.h5.CWAM.h5.bz2', name='2022_09_01_09_45_GMT.Forecast.h5.CWAM.h5.bz2', size=697753, modificationTime=1730035453000),\n",
       " FileInfo(path='dbfs:/mnt/nasa_challenge/1-raw-unzipped-files/CWAM_train_part_1_220901_220924/220901_220924/09/01/2022_09_01_10_00_GMT.Forecast.h5.CWAM.h5.bz2', name='2022_09_01_10_00_GMT.Forecast.h5.CWAM.h5.bz2', size=714860, modificationTime=1730035489000),\n",
       " FileInfo(path='dbfs:/mnt/nasa_challenge/1-raw-unzipped-files/CWAM_train_part_1_220901_220924/220901_220924/09/01/2022_09_01_10_15_GMT.Forecast.h5.CWAM.h5.bz2', name='2022_09_01_10_15_GMT.Forecast.h5.CWAM.h5.bz2', size=730176, modificationTime=1730035480000),\n",
       " FileInfo(path='dbfs:/mnt/nasa_challenge/1-raw-unzipped-files/CWAM_train_part_1_220901_220924/220901_220924/09/01/2022_09_01_10_30_GMT.Forecast.h5.CWAM.h5.bz2', name='2022_09_01_10_30_GMT.Forecast.h5.CWAM.h5.bz2', size=675712, modificationTime=1730035479000),\n",
       " FileInfo(path='dbfs:/mnt/nasa_challenge/1-raw-unzipped-files/CWAM_train_part_1_220901_220924/220901_220924/09/01/2022_09_01_10_45_GMT.Forecast.h5.CWAM.h5.bz2', name='2022_09_01_10_45_GMT.Forecast.h5.CWAM.h5.bz2', size=739170, modificationTime=1730035488000),\n",
       " FileInfo(path='dbfs:/mnt/nasa_challenge/1-raw-unzipped-files/CWAM_train_part_1_220901_220924/220901_220924/09/01/2022_09_01_11_00_GMT.Forecast.h5.CWAM.h5.bz2', name='2022_09_01_11_00_GMT.Forecast.h5.CWAM.h5.bz2', size=862945, modificationTime=1730035490000),\n",
       " FileInfo(path='dbfs:/mnt/nasa_challenge/1-raw-unzipped-files/CWAM_train_part_1_220901_220924/220901_220924/09/01/2022_09_01_11_15_GMT.Forecast.h5.CWAM.h5.bz2', name='2022_09_01_11_15_GMT.Forecast.h5.CWAM.h5.bz2', size=924040, modificationTime=1730035489000),\n",
       " FileInfo(path='dbfs:/mnt/nasa_challenge/1-raw-unzipped-files/CWAM_train_part_1_220901_220924/220901_220924/09/01/2022_09_01_11_30_GMT.Forecast.h5.CWAM.h5.bz2', name='2022_09_01_11_30_GMT.Forecast.h5.CWAM.h5.bz2', size=1014375, modificationTime=1730035478000),\n",
       " FileInfo(path='dbfs:/mnt/nasa_challenge/1-raw-unzipped-files/CWAM_train_part_1_220901_220924/220901_220924/09/01/2022_09_01_11_45_GMT.Forecast.h5.CWAM.h5.bz2', name='2022_09_01_11_45_GMT.Forecast.h5.CWAM.h5.bz2', size=989718, modificationTime=1730035483000),\n",
       " FileInfo(path='dbfs:/mnt/nasa_challenge/1-raw-unzipped-files/CWAM_train_part_1_220901_220924/220901_220924/09/01/2022_09_01_12_00_GMT.Forecast.h5.CWAM.h5.bz2', name='2022_09_01_12_00_GMT.Forecast.h5.CWAM.h5.bz2', size=1116332, modificationTime=1730035479000),\n",
       " FileInfo(path='dbfs:/mnt/nasa_challenge/1-raw-unzipped-files/CWAM_train_part_1_220901_220924/220901_220924/09/01/2022_09_01_12_15_GMT.Forecast.h5.CWAM.h5.bz2', name='2022_09_01_12_15_GMT.Forecast.h5.CWAM.h5.bz2', size=1083547, modificationTime=1730035483000),\n",
       " FileInfo(path='dbfs:/mnt/nasa_challenge/1-raw-unzipped-files/CWAM_train_part_1_220901_220924/220901_220924/09/01/2022_09_01_12_30_GMT.Forecast.h5.CWAM.h5.bz2', name='2022_09_01_12_30_GMT.Forecast.h5.CWAM.h5.bz2', size=1158170, modificationTime=1730035487000),\n",
       " FileInfo(path='dbfs:/mnt/nasa_challenge/1-raw-unzipped-files/CWAM_train_part_1_220901_220924/220901_220924/09/01/2022_09_01_12_45_GMT.Forecast.h5.CWAM.h5.bz2', name='2022_09_01_12_45_GMT.Forecast.h5.CWAM.h5.bz2', size=1224602, modificationTime=1730035486000),\n",
       " FileInfo(path='dbfs:/mnt/nasa_challenge/1-raw-unzipped-files/CWAM_train_part_1_220901_220924/220901_220924/09/01/2022_09_01_13_00_GMT.Forecast.h5.CWAM.h5.bz2', name='2022_09_01_13_00_GMT.Forecast.h5.CWAM.h5.bz2', size=1272632, modificationTime=1730035482000),\n",
       " FileInfo(path='dbfs:/mnt/nasa_challenge/1-raw-unzipped-files/CWAM_train_part_1_220901_220924/220901_220924/09/01/2022_09_01_13_15_GMT.Forecast.h5.CWAM.h5.bz2', name='2022_09_01_13_15_GMT.Forecast.h5.CWAM.h5.bz2', size=1234772, modificationTime=1730035487000),\n",
       " FileInfo(path='dbfs:/mnt/nasa_challenge/1-raw-unzipped-files/CWAM_train_part_1_220901_220924/220901_220924/09/01/2022_09_01_13_30_GMT.Forecast.h5.CWAM.h5.bz2', name='2022_09_01_13_30_GMT.Forecast.h5.CWAM.h5.bz2', size=1234148, modificationTime=1730035484000),\n",
       " FileInfo(path='dbfs:/mnt/nasa_challenge/1-raw-unzipped-files/CWAM_train_part_1_220901_220924/220901_220924/09/01/2022_09_01_13_45_GMT.Forecast.h5.CWAM.h5.bz2', name='2022_09_01_13_45_GMT.Forecast.h5.CWAM.h5.bz2', size=1281443, modificationTime=1730035489000),\n",
       " FileInfo(path='dbfs:/mnt/nasa_challenge/1-raw-unzipped-files/CWAM_train_part_1_220901_220924/220901_220924/09/01/2022_09_01_14_00_GMT.Forecast.h5.CWAM.h5.bz2', name='2022_09_01_14_00_GMT.Forecast.h5.CWAM.h5.bz2', size=1264839, modificationTime=1730035473000),\n",
       " FileInfo(path='dbfs:/mnt/nasa_challenge/1-raw-unzipped-files/CWAM_train_part_1_220901_220924/220901_220924/09/01/2022_09_01_14_15_GMT.Forecast.h5.CWAM.h5.bz2', name='2022_09_01_14_15_GMT.Forecast.h5.CWAM.h5.bz2', size=1316289, modificationTime=1730035473000),\n",
       " FileInfo(path='dbfs:/mnt/nasa_challenge/1-raw-unzipped-files/CWAM_train_part_1_220901_220924/220901_220924/09/01/2022_09_01_14_30_GMT.Forecast.h5.CWAM.h5.bz2', name='2022_09_01_14_30_GMT.Forecast.h5.CWAM.h5.bz2', size=1193304, modificationTime=1730035488000),\n",
       " FileInfo(path='dbfs:/mnt/nasa_challenge/1-raw-unzipped-files/CWAM_train_part_1_220901_220924/220901_220924/09/01/2022_09_01_14_45_GMT.Forecast.h5.CWAM.h5.bz2', name='2022_09_01_14_45_GMT.Forecast.h5.CWAM.h5.bz2', size=1200292, modificationTime=1730035489000),\n",
       " FileInfo(path='dbfs:/mnt/nasa_challenge/1-raw-unzipped-files/CWAM_train_part_1_220901_220924/220901_220924/09/01/2022_09_01_15_00_GMT.Forecast.h5.CWAM.h5.bz2', name='2022_09_01_15_00_GMT.Forecast.h5.CWAM.h5.bz2', size=1247788, modificationTime=1730035467000),\n",
       " FileInfo(path='dbfs:/mnt/nasa_challenge/1-raw-unzipped-files/CWAM_train_part_1_220901_220924/220901_220924/09/01/2022_09_01_15_15_GMT.Forecast.h5.CWAM.h5.bz2', name='2022_09_01_15_15_GMT.Forecast.h5.CWAM.h5.bz2', size=1273784, modificationTime=1730035485000),\n",
       " FileInfo(path='dbfs:/mnt/nasa_challenge/1-raw-unzipped-files/CWAM_train_part_1_220901_220924/220901_220924/09/01/2022_09_01_15_30_GMT.Forecast.h5.CWAM.h5.bz2', name='2022_09_01_15_30_GMT.Forecast.h5.CWAM.h5.bz2', size=1157222, modificationTime=1730035475000),\n",
       " FileInfo(path='dbfs:/mnt/nasa_challenge/1-raw-unzipped-files/CWAM_train_part_1_220901_220924/220901_220924/09/01/2022_09_01_15_45_GMT.Forecast.h5.CWAM.h5.bz2', name='2022_09_01_15_45_GMT.Forecast.h5.CWAM.h5.bz2', size=1315662, modificationTime=1730035488000),\n",
       " FileInfo(path='dbfs:/mnt/nasa_challenge/1-raw-unzipped-files/CWAM_train_part_1_220901_220924/220901_220924/09/01/2022_09_01_16_00_GMT.Forecast.h5.CWAM.h5.bz2', name='2022_09_01_16_00_GMT.Forecast.h5.CWAM.h5.bz2', size=1360418, modificationTime=1730035489000),\n",
       " FileInfo(path='dbfs:/mnt/nasa_challenge/1-raw-unzipped-files/CWAM_train_part_1_220901_220924/220901_220924/09/01/2022_09_01_16_15_GMT.Forecast.h5.CWAM.h5.bz2', name='2022_09_01_16_15_GMT.Forecast.h5.CWAM.h5.bz2', size=1457429, modificationTime=1730035486000),\n",
       " FileInfo(path='dbfs:/mnt/nasa_challenge/1-raw-unzipped-files/CWAM_train_part_1_220901_220924/220901_220924/09/01/2022_09_01_16_30_GMT.Forecast.h5.CWAM.h5.bz2', name='2022_09_01_16_30_GMT.Forecast.h5.CWAM.h5.bz2', size=1649278, modificationTime=1730035477000),\n",
       " FileInfo(path='dbfs:/mnt/nasa_challenge/1-raw-unzipped-files/CWAM_train_part_1_220901_220924/220901_220924/09/01/2022_09_01_16_45_GMT.Forecast.h5.CWAM.h5.bz2', name='2022_09_01_16_45_GMT.Forecast.h5.CWAM.h5.bz2', size=1934007, modificationTime=1730035486000),\n",
       " FileInfo(path='dbfs:/mnt/nasa_challenge/1-raw-unzipped-files/CWAM_train_part_1_220901_220924/220901_220924/09/01/2022_09_01_17_00_GMT.Forecast.h5.CWAM.h5.bz2', name='2022_09_01_17_00_GMT.Forecast.h5.CWAM.h5.bz2', size=2249089, modificationTime=1730035473000),\n",
       " FileInfo(path='dbfs:/mnt/nasa_challenge/1-raw-unzipped-files/CWAM_train_part_1_220901_220924/220901_220924/09/01/2022_09_01_17_15_GMT.Forecast.h5.CWAM.h5.bz2', name='2022_09_01_17_15_GMT.Forecast.h5.CWAM.h5.bz2', size=2840843, modificationTime=1730035465000),\n",
       " FileInfo(path='dbfs:/mnt/nasa_challenge/1-raw-unzipped-files/CWAM_train_part_1_220901_220924/220901_220924/09/01/2022_09_01_17_30_GMT.Forecast.h5.CWAM.h5.bz2', name='2022_09_01_17_30_GMT.Forecast.h5.CWAM.h5.bz2', size=4053645, modificationTime=1730035484000),\n",
       " FileInfo(path='dbfs:/mnt/nasa_challenge/1-raw-unzipped-files/CWAM_train_part_1_220901_220924/220901_220924/09/01/2022_09_01_17_45_GMT.Forecast.h5.CWAM.h5.bz2', name='2022_09_01_17_45_GMT.Forecast.h5.CWAM.h5.bz2', size=4470249, modificationTime=1730035480000),\n",
       " FileInfo(path='dbfs:/mnt/nasa_challenge/1-raw-unzipped-files/CWAM_train_part_1_220901_220924/220901_220924/09/01/2022_09_01_18_00_GMT.Forecast.h5.CWAM.h5.bz2', name='2022_09_01_18_00_GMT.Forecast.h5.CWAM.h5.bz2', size=5184115, modificationTime=1730035480000),\n",
       " FileInfo(path='dbfs:/mnt/nasa_challenge/1-raw-unzipped-files/CWAM_train_part_1_220901_220924/220901_220924/09/01/2022_09_01_18_15_GMT.Forecast.h5.CWAM.h5.bz2', name='2022_09_01_18_15_GMT.Forecast.h5.CWAM.h5.bz2', size=5828083, modificationTime=1730035489000),\n",
       " FileInfo(path='dbfs:/mnt/nasa_challenge/1-raw-unzipped-files/CWAM_train_part_1_220901_220924/220901_220924/09/01/2022_09_01_18_30_GMT.Forecast.h5.CWAM.h5.bz2', name='2022_09_01_18_30_GMT.Forecast.h5.CWAM.h5.bz2', size=6676989, modificationTime=1730035459000),\n",
       " FileInfo(path='dbfs:/mnt/nasa_challenge/1-raw-unzipped-files/CWAM_train_part_1_220901_220924/220901_220924/09/01/2022_09_01_18_45_GMT.Forecast.h5.CWAM.h5.bz2', name='2022_09_01_18_45_GMT.Forecast.h5.CWAM.h5.bz2', size=7601048, modificationTime=1730035491000),\n",
       " FileInfo(path='dbfs:/mnt/nasa_challenge/1-raw-unzipped-files/CWAM_train_part_1_220901_220924/220901_220924/09/01/2022_09_01_19_00_GMT.Forecast.h5.CWAM.h5.bz2', name='2022_09_01_19_00_GMT.Forecast.h5.CWAM.h5.bz2', size=8120812, modificationTime=1730035491000),\n",
       " FileInfo(path='dbfs:/mnt/nasa_challenge/1-raw-unzipped-files/CWAM_train_part_1_220901_220924/220901_220924/09/01/2022_09_01_19_15_GMT.Forecast.h5.CWAM.h5.bz2', name='2022_09_01_19_15_GMT.Forecast.h5.CWAM.h5.bz2', size=8702243, modificationTime=1730035486000),\n",
       " FileInfo(path='dbfs:/mnt/nasa_challenge/1-raw-unzipped-files/CWAM_train_part_1_220901_220924/220901_220924/09/01/2022_09_01_19_30_GMT.Forecast.h5.CWAM.h5.bz2', name='2022_09_01_19_30_GMT.Forecast.h5.CWAM.h5.bz2', size=8872988, modificationTime=1730035486000),\n",
       " FileInfo(path='dbfs:/mnt/nasa_challenge/1-raw-unzipped-files/CWAM_train_part_1_220901_220924/220901_220924/09/01/2022_09_01_19_45_GMT.Forecast.h5.CWAM.h5.bz2', name='2022_09_01_19_45_GMT.Forecast.h5.CWAM.h5.bz2', size=9840054, modificationTime=1730035474000),\n",
       " FileInfo(path='dbfs:/mnt/nasa_challenge/1-raw-unzipped-files/CWAM_train_part_1_220901_220924/220901_220924/09/01/2022_09_01_20_00_GMT.Forecast.h5.CWAM.h5.bz2', name='2022_09_01_20_00_GMT.Forecast.h5.CWAM.h5.bz2', size=10362763, modificationTime=1730035477000),\n",
       " FileInfo(path='dbfs:/mnt/nasa_challenge/1-raw-unzipped-files/CWAM_train_part_1_220901_220924/220901_220924/09/01/2022_09_01_20_15_GMT.Forecast.h5.CWAM.h5.bz2', name='2022_09_01_20_15_GMT.Forecast.h5.CWAM.h5.bz2', size=10334859, modificationTime=1730035490000),\n",
       " FileInfo(path='dbfs:/mnt/nasa_challenge/1-raw-unzipped-files/CWAM_train_part_1_220901_220924/220901_220924/09/01/2022_09_01_20_30_GMT.Forecast.h5.CWAM.h5.bz2', name='2022_09_01_20_30_GMT.Forecast.h5.CWAM.h5.bz2', size=10045342, modificationTime=1730035490000),\n",
       " FileInfo(path='dbfs:/mnt/nasa_challenge/1-raw-unzipped-files/CWAM_train_part_1_220901_220924/220901_220924/09/01/2022_09_01_20_45_GMT.Forecast.h5.CWAM.h5.bz2', name='2022_09_01_20_45_GMT.Forecast.h5.CWAM.h5.bz2', size=11122799, modificationTime=1730035483000),\n",
       " FileInfo(path='dbfs:/mnt/nasa_challenge/1-raw-unzipped-files/CWAM_train_part_1_220901_220924/220901_220924/09/01/2022_09_01_21_00_GMT.Forecast.h5.CWAM.h5.bz2', name='2022_09_01_21_00_GMT.Forecast.h5.CWAM.h5.bz2', size=11188402, modificationTime=1730035454000),\n",
       " FileInfo(path='dbfs:/mnt/nasa_challenge/1-raw-unzipped-files/CWAM_train_part_1_220901_220924/220901_220924/09/01/2022_09_01_21_15_GMT.Forecast.h5.CWAM.h5.bz2', name='2022_09_01_21_15_GMT.Forecast.h5.CWAM.h5.bz2', size=10509842, modificationTime=1730035479000),\n",
       " FileInfo(path='dbfs:/mnt/nasa_challenge/1-raw-unzipped-files/CWAM_train_part_1_220901_220924/220901_220924/09/01/2022_09_01_21_30_GMT.Forecast.h5.CWAM.h5.bz2', name='2022_09_01_21_30_GMT.Forecast.h5.CWAM.h5.bz2', size=10805225, modificationTime=1730035483000),\n",
       " FileInfo(path='dbfs:/mnt/nasa_challenge/1-raw-unzipped-files/CWAM_train_part_1_220901_220924/220901_220924/09/01/2022_09_01_21_45_GMT.Forecast.h5.CWAM.h5.bz2', name='2022_09_01_21_45_GMT.Forecast.h5.CWAM.h5.bz2', size=10477379, modificationTime=1730035455000),\n",
       " FileInfo(path='dbfs:/mnt/nasa_challenge/1-raw-unzipped-files/CWAM_train_part_1_220901_220924/220901_220924/09/01/2022_09_01_22_00_GMT.Forecast.h5.CWAM.h5.bz2', name='2022_09_01_22_00_GMT.Forecast.h5.CWAM.h5.bz2', size=9846326, modificationTime=1730035490000),\n",
       " FileInfo(path='dbfs:/mnt/nasa_challenge/1-raw-unzipped-files/CWAM_train_part_1_220901_220924/220901_220924/09/01/2022_09_01_22_15_GMT.Forecast.h5.CWAM.h5.bz2', name='2022_09_01_22_15_GMT.Forecast.h5.CWAM.h5.bz2', size=9914500, modificationTime=1730035481000),\n",
       " FileInfo(path='dbfs:/mnt/nasa_challenge/1-raw-unzipped-files/CWAM_train_part_1_220901_220924/220901_220924/09/01/2022_09_01_22_30_GMT.Forecast.h5.CWAM.h5.bz2', name='2022_09_01_22_30_GMT.Forecast.h5.CWAM.h5.bz2', size=9199372, modificationTime=1730035486000),\n",
       " FileInfo(path='dbfs:/mnt/nasa_challenge/1-raw-unzipped-files/CWAM_train_part_1_220901_220924/220901_220924/09/01/2022_09_01_22_45_GMT.Forecast.h5.CWAM.h5.bz2', name='2022_09_01_22_45_GMT.Forecast.h5.CWAM.h5.bz2', size=8966296, modificationTime=1730035488000),\n",
       " FileInfo(path='dbfs:/mnt/nasa_challenge/1-raw-unzipped-files/CWAM_train_part_1_220901_220924/220901_220924/09/01/2022_09_01_23_00_GMT.Forecast.h5.CWAM.h5.bz2', name='2022_09_01_23_00_GMT.Forecast.h5.CWAM.h5.bz2', size=8964492, modificationTime=1730035482000),\n",
       " FileInfo(path='dbfs:/mnt/nasa_challenge/1-raw-unzipped-files/CWAM_train_part_1_220901_220924/220901_220924/09/01/2022_09_01_23_15_GMT.Forecast.h5.CWAM.h5.bz2', name='2022_09_01_23_15_GMT.Forecast.h5.CWAM.h5.bz2', size=8534727, modificationTime=1730035461000),\n",
       " FileInfo(path='dbfs:/mnt/nasa_challenge/1-raw-unzipped-files/CWAM_train_part_1_220901_220924/220901_220924/09/01/2022_09_01_23_30_GMT.Forecast.h5.CWAM.h5.bz2', name='2022_09_01_23_30_GMT.Forecast.h5.CWAM.h5.bz2', size=8022990, modificationTime=1730035469000),\n",
       " FileInfo(path='dbfs:/mnt/nasa_challenge/1-raw-unzipped-files/CWAM_train_part_1_220901_220924/220901_220924/09/01/2022_09_01_23_45_GMT.Forecast.h5.CWAM.h5.bz2', name='2022_09_01_23_45_GMT.Forecast.h5.CWAM.h5.bz2', size=7822871, modificationTime=1730035482000)]"
      ]
     },
     "execution_count": 11,
     "metadata": {},
     "output_type": "execute_result"
    }
   ],
   "source": [
    "dbutils.fs.ls(\"dbfs:/mnt/nasa_challenge/1-raw-unzipped-files/CWAM_train_part_1_220901_220924/220901_220924/09/01\")"
   ]
  }
 ],
 "metadata": {
  "application/vnd.databricks.v1+notebook": {
   "dashboards": [],
   "environmentMetadata": {
    "base_environment": "",
    "client": "1"
   },
   "language": "python",
   "notebookMetadata": {
    "pythonIndentUnit": 4
   },
   "notebookName": "0-mount-container-blob-storage",
   "widgets": {}
  },
  "language_info": {
   "name": "python"
  }
 },
 "nbformat": 4,
 "nbformat_minor": 0
}
