{
 "cells": [
  {
   "cell_type": "markdown",
   "metadata": {
    "application/vnd.databricks.v1+cell": {
     "cellMetadata": {},
     "inputWidgets": {},
     "nuid": "54207f11-e77b-471f-aa64-aba0cbd31bf1",
     "showTitle": false,
     "tableResultSettingsMap": {},
     "title": ""
    }
   },
   "source": [
    "# Mounting the Azure Container to Databricks File System\n",
    "\n",
    "The data from the competition (https://bitgrit.net/competition/23) has been uploaded to Azure File Blob Storage to leverage the big data tools the platform offers and to facilitate collaboration. \n",
    "In order to use the data with Databricks, I decided to mount the container to Databricks.\n",
    "Below you will find the different steps to do so"
   ]
  },
  {
   "cell_type": "code",
   "execution_count": 0,
   "metadata": {
    "application/vnd.databricks.v1+cell": {
     "cellMetadata": {
      "byteLimit": 2048000,
      "rowLimit": 10000
     },
     "inputWidgets": {},
     "nuid": "ebcdeb35-2820-4072-8e25-b5150df39a62",
     "showTitle": false,
     "tableResultSettingsMap": {},
     "title": ""
    }
   },
   "outputs": [],
   "source": [
    "# Define the dbutils secrets to access the Azure Key Vault\n",
    "# this way I don't leak my secrets to the Bitcoin miners :')\n",
    "scope_name = 'key-vault-scope'\n",
    "secret_name = dbutils.secrets.get(scope = 'key-vault-scope', key = 'nasa-comp-data-sas-token-0-raw-data')\n",
    "key_secret_name = dbutils.secrets.get(scope = 'key-vault-scope', key = 'competitiondata-storage-access-key1')\n",
    "container_name = \"0-raw-data\"\n",
    "storage_account_name = \"competitiondata\""
   ]
  },
  {
   "cell_type": "markdown",
   "metadata": {
    "application/vnd.databricks.v1+cell": {
     "cellMetadata": {},
     "inputWidgets": {},
     "nuid": "102f4bfb-615a-451c-8bb5-631cd5ae7f1e",
     "showTitle": false,
     "tableResultSettingsMap": {},
     "title": ""
    }
   },
   "source": [
    "# Creating a secret scope in Databricks\n",
    "- Go to the Databricks workspace.\n",
    "- Navigate to the URL: https://<databricks-instance>#secrets/createScope ( https://adb-2293949851761684.4.azuredatabricks.net/#secrets/createScope).\n",
    "- Fill in the required fields:\n",
    "Scope Name: Enter a name for your secret scope.\n",
    "DNS Name: Enter the DNS name of your Key Vault (https://atl-nasa-challenge-kv.vault.azure.net/).\n",
    "Resource ID: Enter the Resource ID of your Key Vault (/subscriptions/b0b9b7ad-f69c-4572-a875-9a1fecc576f3/resourceGroups/NASA_AIRPORT_CHALLENGE_2024/providers/Microsoft.KeyVault/vaults/atl-nasa-challenge-kv)."
   ]
  },
  {
   "cell_type": "code",
   "execution_count": 0,
   "metadata": {
    "application/vnd.databricks.v1+cell": {
     "cellMetadata": {
      "byteLimit": 2048000,
      "rowLimit": 10000
     },
     "inputWidgets": {},
     "nuid": "f9679472-26d1-441a-ba65-a774cf28dbc4",
     "showTitle": false,
     "tableResultSettingsMap": {},
     "title": ""
    }
   },
   "outputs": [],
   "source": [
    "spark.conf.set(\"fs.azure.account.key.{0}.blob.core.windows.net\".format(storage_account_name), key_secret_name)"
   ]
  },
  {
   "cell_type": "code",
   "execution_count": 0,
   "metadata": {
    "application/vnd.databricks.v1+cell": {
     "cellMetadata": {
      "byteLimit": 2048000,
      "rowLimit": 10000
     },
     "inputWidgets": {},
     "nuid": "f3bf3385-ba11-4b8d-a2c3-780438918721",
     "showTitle": false,
     "tableResultSettingsMap": {},
     "title": ""
    }
   },
   "outputs": [],
   "source": [
    "dbutils.fs.mount(\n",
    " source = \"wasbs://{0}@{1}.blob.core.windows.net\".format(container_name, storage_account_name),\n",
    " mount_point = \"/mnt/nasa_challenge\",\n",
    " extra_configs = {\"fs.azure.account.key.{0}.blob.core.windows.net\".format(storage_account_name): key_secret_name}\n",
    ")"
   ]
  },
  {
   "cell_type": "markdown",
   "metadata": {
    "application/vnd.databricks.v1+cell": {
     "cellMetadata": {},
     "inputWidgets": {},
     "nuid": "368e0a70-95e8-4b84-9162-fb13a863719f",
     "showTitle": false,
     "tableResultSettingsMap": {},
     "title": ""
    }
   },
   "source": [
    "Below are just some tests to see what I have in my directories."
   ]
  },
  {
   "cell_type": "code",
   "execution_count": 0,
   "metadata": {
    "application/vnd.databricks.v1+cell": {
     "cellMetadata": {
      "byteLimit": 2048000,
      "rowLimit": 10000
     },
     "inputWidgets": {},
     "nuid": "54e9933c-cec3-4c4e-9518-60c8ed5ed6b9",
     "showTitle": false,
     "tableResultSettingsMap": {},
     "title": ""
    }
   },
   "outputs": [],
   "source": [
    "dbutils.fs.ls(\"dbfs:/mnt/nasa_challenge\")"
   ]
  },
  {
   "cell_type": "code",
   "execution_count": 0,
   "metadata": {
    "application/vnd.databricks.v1+cell": {
     "cellMetadata": {
      "byteLimit": 2048000,
      "rowLimit": 10000
     },
     "inputWidgets": {},
     "nuid": "f5fa53c2-abdc-4e9a-a1b6-b743ce040aaa",
     "showTitle": false,
     "tableResultSettingsMap": {},
     "title": ""
    }
   },
   "outputs": [],
   "source": [
    "dbutils.fs.ls(\"dbfs:/mnt/nasa_challenge/1-raw-unzipped-files/\")"
   ]
  },
  {
   "cell_type": "code",
   "execution_count": 0,
   "metadata": {
    "application/vnd.databricks.v1+cell": {
     "cellMetadata": {
      "byteLimit": 2048000,
      "rowLimit": 10000
     },
     "inputWidgets": {},
     "nuid": "d10968cb-ebb4-46e0-9adf-b1b838e6f0ec",
     "showTitle": false,
     "tableResultSettingsMap": {},
     "title": ""
    }
   },
   "outputs": [],
   "source": [
    "dbutils.fs.ls(\"dbfs:/mnt/nasa_challenge/1-raw-unzipped-files/CWAM_train_part_1_220901_220924/220901_220924/09/01\")"
   ]
  }
 ],
 "metadata": {
  "application/vnd.databricks.v1+notebook": {
   "dashboards": [],
   "environmentMetadata": {
    "base_environment": "",
    "client": "1"
   },
   "language": "python",
   "notebookMetadata": {
    "pythonIndentUnit": 4
   },
   "notebookName": "0-mount-container-blob-storage",
   "widgets": {}
  },
  "language_info": {
   "name": "python"
  }
 },
 "nbformat": 4,
 "nbformat_minor": 0
}
